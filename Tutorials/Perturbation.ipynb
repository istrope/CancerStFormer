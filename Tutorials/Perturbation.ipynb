{
 "cells": [
  {
   "cell_type": "markdown",
   "id": "4885915e",
   "metadata": {},
   "source": [
    "# In-Silico Perturbation"
   ]
  },
  {
   "cell_type": "markdown",
   "id": "0539f30a",
   "metadata": {},
   "source": [
    "### 1.1 Option A: Delete Single Gene and View both Gene and Cell Embedding Shifts"
   ]
  },
  {
   "cell_type": "code",
   "execution_count": null,
   "id": "aa0ecf37",
   "metadata": {
    "vscode": {
     "languageId": "plaintext"
    }
   },
   "outputs": [],
   "source": []
  },
  {
   "cell_type": "markdown",
   "id": "4735250d",
   "metadata": {},
   "source": [
    "### 1.2 Option B: Delete all Genes and compare Cell State Shifts (Group A -> Group B)"
   ]
  },
  {
   "cell_type": "code",
   "execution_count": null,
   "id": "e224b78e",
   "metadata": {
    "vscode": {
     "languageId": "plaintext"
    }
   },
   "outputs": [],
   "source": []
  },
  {
   "cell_type": "markdown",
   "id": "1bbee5f1",
   "metadata": {},
   "source": [
    "### 1.3 Option C: Overexpress Gene"
   ]
  },
  {
   "cell_type": "code",
   "execution_count": null,
   "id": "7d148937",
   "metadata": {
    "vscode": {
     "languageId": "plaintext"
    }
   },
   "outputs": [],
   "source": []
  },
  {
   "cell_type": "markdown",
   "id": "1750ed41",
   "metadata": {},
   "source": [
    "### 1.4 Option D: Utilize Anchor Token"
   ]
  },
  {
   "cell_type": "code",
   "execution_count": null,
   "id": "2a064434",
   "metadata": {
    "vscode": {
     "languageId": "plaintext"
    }
   },
   "outputs": [],
   "source": []
  },
  {
   "cell_type": "markdown",
   "id": "1c3f8cb7",
   "metadata": {},
   "source": [
    "### 1.5 Option E: Load in Cell Classifier for Perturbation"
   ]
  },
  {
   "cell_type": "code",
   "execution_count": null,
   "id": "f123e321",
   "metadata": {
    "vscode": {
     "languageId": "plaintext"
    }
   },
   "outputs": [],
   "source": []
  }
 ],
 "metadata": {
  "language_info": {
   "name": "python"
  }
 },
 "nbformat": 4,
 "nbformat_minor": 5
}
