{
 "cells": [
  {
   "cell_type": "markdown",
   "id": "4885915e",
   "metadata": {},
   "source": [
    "# In-Silico Perturbation"
   ]
  },
  {
   "cell_type": "code",
   "execution_count": 1,
   "id": "e54fe7f9",
   "metadata": {},
   "outputs": [],
   "source": [
    "from stFormer.perturbation.stFormer_perturb import InSilicoPerturber\n",
    "from stFormer.perturbation.perturb_stats import InSilicoPerturberStats\n",
    "import pandas as pd \n",
    "import pickle\n",
    "import os\n",
    "import re"
   ]
  },
  {
   "cell_type": "markdown",
   "id": "0539f30a",
   "metadata": {},
   "source": [
    "### 1.1 Option A: Delete Single Gene and View both Gene and Cell Embedding Shifts"
   ]
  },
  {
   "cell_type": "markdown",
   "id": "441eaa32",
   "metadata": {},
   "source": [
    "Here we look at the following option:\n",
    "1. Delete Gene: PDCD1\n",
    "2. Load in pretrained model on masked learning objective\n",
    "3. want to look at the cosine similarity to null distribution when perturbing PDCD1 in both per gene and per cell embedding\n",
    "4. batch our perturbations at each model forward pass\n"
   ]
  },
  {
   "cell_type": "code",
   "execution_count": 2,
   "id": "aa0ecf37",
   "metadata": {},
   "outputs": [
    {
     "name": "stderr",
     "output_type": "stream",
     "text": [
      "  0%|          | 0/49 [00:00<?, ?it/s]"
     ]
    },
    {
     "data": {
      "application/vnd.jupyter.widget-view+json": {
       "model_id": "437af09b515f4dc1bbac147327cfa0fd",
       "version_major": 2,
       "version_minor": 0
      },
      "text/plain": [
       "  0%|          | 0/1 [00:00<?, ?it/s]"
      ]
     },
     "metadata": {},
     "output_type": "display_data"
    },
    {
     "data": {
      "application/vnd.jupyter.widget-view+json": {
       "model_id": "dfe6b5a30a2544f69d85a0d1b27948f0",
       "version_major": 2,
       "version_minor": 0
      },
      "text/plain": [
       "  0%|          | 0/1 [00:00<?, ?it/s]"
      ]
     },
     "metadata": {},
     "output_type": "display_data"
    },
    {
     "name": "stderr",
     "output_type": "stream",
     "text": [
      "/media/qian/vol2/Ivy/Projects_Dir/stFormer/stFormer/perturbation/stFormer_perturb.py:548: UserWarning: To copy construct from a tensor, it is recommended to use sourceTensor.clone().detach() or sourceTensor.clone().detach().requires_grad_(True), rather than torch.tensor(sourceTensor).\n",
      "  gene_cos, torch.tensor(nonpad, device=\"cuda\")\n",
      "  2%|▏         | 1/49 [00:01<01:13,  1.54s/it]"
     ]
    },
    {
     "data": {
      "application/vnd.jupyter.widget-view+json": {
       "model_id": "dc414218ed524d178ad35f5eea18ca76",
       "version_major": 2,
       "version_minor": 0
      },
      "text/plain": [
       "  0%|          | 0/1 [00:00<?, ?it/s]"
      ]
     },
     "metadata": {},
     "output_type": "display_data"
    },
    {
     "data": {
      "application/vnd.jupyter.widget-view+json": {
       "model_id": "10c42ed4e82f440293ff829f67dc192b",
       "version_major": 2,
       "version_minor": 0
      },
      "text/plain": [
       "  0%|          | 0/1 [00:00<?, ?it/s]"
      ]
     },
     "metadata": {},
     "output_type": "display_data"
    },
    {
     "name": "stderr",
     "output_type": "stream",
     "text": [
      "  4%|▍         | 2/49 [00:02<00:43,  1.08it/s]"
     ]
    },
    {
     "data": {
      "application/vnd.jupyter.widget-view+json": {
       "model_id": "3fab8e8c572f4270b0aa32c1af6e8577",
       "version_major": 2,
       "version_minor": 0
      },
      "text/plain": [
       "  0%|          | 0/1 [00:00<?, ?it/s]"
      ]
     },
     "metadata": {},
     "output_type": "display_data"
    },
    {
     "data": {
      "application/vnd.jupyter.widget-view+json": {
       "model_id": "81308dfdec394b8ea97689cc64da2a06",
       "version_major": 2,
       "version_minor": 0
      },
      "text/plain": [
       "  0%|          | 0/1 [00:00<?, ?it/s]"
      ]
     },
     "metadata": {},
     "output_type": "display_data"
    },
    {
     "name": "stderr",
     "output_type": "stream",
     "text": [
      "  6%|▌         | 3/49 [00:02<00:33,  1.36it/s]"
     ]
    },
    {
     "data": {
      "application/vnd.jupyter.widget-view+json": {
       "model_id": "e32de05fafef4efba3b834358db541f2",
       "version_major": 2,
       "version_minor": 0
      },
      "text/plain": [
       "  0%|          | 0/1 [00:00<?, ?it/s]"
      ]
     },
     "metadata": {},
     "output_type": "display_data"
    },
    {
     "data": {
      "application/vnd.jupyter.widget-view+json": {
       "model_id": "2e8ba52e13974f60b277adabb2c0a231",
       "version_major": 2,
       "version_minor": 0
      },
      "text/plain": [
       "  0%|          | 0/1 [00:00<?, ?it/s]"
      ]
     },
     "metadata": {},
     "output_type": "display_data"
    },
    {
     "name": "stderr",
     "output_type": "stream",
     "text": [
      "  8%|▊         | 4/49 [00:03<00:29,  1.54it/s]"
     ]
    },
    {
     "data": {
      "application/vnd.jupyter.widget-view+json": {
       "model_id": "b034424b1ddc46b79684e75d9d357e5a",
       "version_major": 2,
       "version_minor": 0
      },
      "text/plain": [
       "  0%|          | 0/1 [00:00<?, ?it/s]"
      ]
     },
     "metadata": {},
     "output_type": "display_data"
    },
    {
     "data": {
      "application/vnd.jupyter.widget-view+json": {
       "model_id": "c4460c8d6aa349b790ab1dafe26bdaee",
       "version_major": 2,
       "version_minor": 0
      },
      "text/plain": [
       "  0%|          | 0/1 [00:00<?, ?it/s]"
      ]
     },
     "metadata": {},
     "output_type": "display_data"
    },
    {
     "name": "stderr",
     "output_type": "stream",
     "text": [
      " 10%|█         | 5/49 [00:03<00:26,  1.67it/s]"
     ]
    },
    {
     "data": {
      "application/vnd.jupyter.widget-view+json": {
       "model_id": "f542da2be0de4690bba850a8c023c9f0",
       "version_major": 2,
       "version_minor": 0
      },
      "text/plain": [
       "  0%|          | 0/1 [00:00<?, ?it/s]"
      ]
     },
     "metadata": {},
     "output_type": "display_data"
    },
    {
     "data": {
      "application/vnd.jupyter.widget-view+json": {
       "model_id": "b9e11a7b27b34b1cb0dcd0c874043eef",
       "version_major": 2,
       "version_minor": 0
      },
      "text/plain": [
       "  0%|          | 0/1 [00:00<?, ?it/s]"
      ]
     },
     "metadata": {},
     "output_type": "display_data"
    },
    {
     "name": "stderr",
     "output_type": "stream",
     "text": [
      " 12%|█▏        | 6/49 [00:04<00:24,  1.75it/s]"
     ]
    },
    {
     "data": {
      "application/vnd.jupyter.widget-view+json": {
       "model_id": "4ee7978053064578837b7fa2f7450f6a",
       "version_major": 2,
       "version_minor": 0
      },
      "text/plain": [
       "  0%|          | 0/1 [00:00<?, ?it/s]"
      ]
     },
     "metadata": {},
     "output_type": "display_data"
    },
    {
     "data": {
      "application/vnd.jupyter.widget-view+json": {
       "model_id": "9d1a63677667426490534999fe1bb5f0",
       "version_major": 2,
       "version_minor": 0
      },
      "text/plain": [
       "  0%|          | 0/1 [00:00<?, ?it/s]"
      ]
     },
     "metadata": {},
     "output_type": "display_data"
    },
    {
     "name": "stderr",
     "output_type": "stream",
     "text": [
      " 14%|█▍        | 7/49 [00:04<00:23,  1.81it/s]"
     ]
    },
    {
     "data": {
      "application/vnd.jupyter.widget-view+json": {
       "model_id": "5ef11b5f3dc041ecbb5066b4a6ed5a01",
       "version_major": 2,
       "version_minor": 0
      },
      "text/plain": [
       "  0%|          | 0/1 [00:00<?, ?it/s]"
      ]
     },
     "metadata": {},
     "output_type": "display_data"
    },
    {
     "data": {
      "application/vnd.jupyter.widget-view+json": {
       "model_id": "d564fe5798114360b3edf416c359cd35",
       "version_major": 2,
       "version_minor": 0
      },
      "text/plain": [
       "  0%|          | 0/1 [00:00<?, ?it/s]"
      ]
     },
     "metadata": {},
     "output_type": "display_data"
    },
    {
     "name": "stderr",
     "output_type": "stream",
     "text": [
      " 16%|█▋        | 8/49 [00:05<00:22,  1.85it/s]"
     ]
    },
    {
     "data": {
      "application/vnd.jupyter.widget-view+json": {
       "model_id": "6867eb9c85234d6dbaba09be9ae94fbc",
       "version_major": 2,
       "version_minor": 0
      },
      "text/plain": [
       "  0%|          | 0/1 [00:00<?, ?it/s]"
      ]
     },
     "metadata": {},
     "output_type": "display_data"
    },
    {
     "data": {
      "application/vnd.jupyter.widget-view+json": {
       "model_id": "c5ea0559dc1e45e294ed746c6656141a",
       "version_major": 2,
       "version_minor": 0
      },
      "text/plain": [
       "  0%|          | 0/1 [00:00<?, ?it/s]"
      ]
     },
     "metadata": {},
     "output_type": "display_data"
    },
    {
     "name": "stderr",
     "output_type": "stream",
     "text": [
      " 18%|█▊        | 9/49 [00:05<00:21,  1.88it/s]"
     ]
    },
    {
     "data": {
      "application/vnd.jupyter.widget-view+json": {
       "model_id": "0a48022856fd4c0ab6040394a2b64de2",
       "version_major": 2,
       "version_minor": 0
      },
      "text/plain": [
       "  0%|          | 0/1 [00:00<?, ?it/s]"
      ]
     },
     "metadata": {},
     "output_type": "display_data"
    },
    {
     "data": {
      "application/vnd.jupyter.widget-view+json": {
       "model_id": "cbb53f436c114bd2bb61fb07ee2c2f73",
       "version_major": 2,
       "version_minor": 0
      },
      "text/plain": [
       "  0%|          | 0/1 [00:00<?, ?it/s]"
      ]
     },
     "metadata": {},
     "output_type": "display_data"
    },
    {
     "name": "stderr",
     "output_type": "stream",
     "text": [
      " 20%|██        | 10/49 [00:06<00:20,  1.91it/s]"
     ]
    },
    {
     "data": {
      "application/vnd.jupyter.widget-view+json": {
       "model_id": "33656023a9f44e51a77f9e8741cca901",
       "version_major": 2,
       "version_minor": 0
      },
      "text/plain": [
       "  0%|          | 0/1 [00:00<?, ?it/s]"
      ]
     },
     "metadata": {},
     "output_type": "display_data"
    },
    {
     "data": {
      "application/vnd.jupyter.widget-view+json": {
       "model_id": "b1a0e4163a9641158a84b96722ea83fd",
       "version_major": 2,
       "version_minor": 0
      },
      "text/plain": [
       "  0%|          | 0/1 [00:00<?, ?it/s]"
      ]
     },
     "metadata": {},
     "output_type": "display_data"
    },
    {
     "name": "stderr",
     "output_type": "stream",
     "text": [
      " 22%|██▏       | 11/49 [00:06<00:19,  1.92it/s]"
     ]
    },
    {
     "data": {
      "application/vnd.jupyter.widget-view+json": {
       "model_id": "cf02037331664eb4a4e11b82dbeb3d89",
       "version_major": 2,
       "version_minor": 0
      },
      "text/plain": [
       "  0%|          | 0/1 [00:00<?, ?it/s]"
      ]
     },
     "metadata": {},
     "output_type": "display_data"
    },
    {
     "data": {
      "application/vnd.jupyter.widget-view+json": {
       "model_id": "cab5f1d0934d4458ba69c0218d8a06bf",
       "version_major": 2,
       "version_minor": 0
      },
      "text/plain": [
       "  0%|          | 0/1 [00:00<?, ?it/s]"
      ]
     },
     "metadata": {},
     "output_type": "display_data"
    },
    {
     "name": "stderr",
     "output_type": "stream",
     "text": [
      " 24%|██▍       | 12/49 [00:07<00:19,  1.93it/s]"
     ]
    },
    {
     "data": {
      "application/vnd.jupyter.widget-view+json": {
       "model_id": "397fac6085cd4ddcb756913334da43c6",
       "version_major": 2,
       "version_minor": 0
      },
      "text/plain": [
       "  0%|          | 0/1 [00:00<?, ?it/s]"
      ]
     },
     "metadata": {},
     "output_type": "display_data"
    },
    {
     "data": {
      "application/vnd.jupyter.widget-view+json": {
       "model_id": "91ea1ec5be844103a2f303cb8f43a827",
       "version_major": 2,
       "version_minor": 0
      },
      "text/plain": [
       "  0%|          | 0/1 [00:00<?, ?it/s]"
      ]
     },
     "metadata": {},
     "output_type": "display_data"
    },
    {
     "name": "stderr",
     "output_type": "stream",
     "text": [
      " 27%|██▋       | 13/49 [00:07<00:18,  1.94it/s]"
     ]
    },
    {
     "data": {
      "application/vnd.jupyter.widget-view+json": {
       "model_id": "203bf8d0e4f74d3da3143bc3ec902e1b",
       "version_major": 2,
       "version_minor": 0
      },
      "text/plain": [
       "  0%|          | 0/1 [00:00<?, ?it/s]"
      ]
     },
     "metadata": {},
     "output_type": "display_data"
    },
    {
     "data": {
      "application/vnd.jupyter.widget-view+json": {
       "model_id": "3b520a27c3c84dcf84fd1618c23296c1",
       "version_major": 2,
       "version_minor": 0
      },
      "text/plain": [
       "  0%|          | 0/1 [00:00<?, ?it/s]"
      ]
     },
     "metadata": {},
     "output_type": "display_data"
    },
    {
     "name": "stderr",
     "output_type": "stream",
     "text": [
      " 29%|██▊       | 14/49 [00:08<00:18,  1.93it/s]"
     ]
    },
    {
     "data": {
      "application/vnd.jupyter.widget-view+json": {
       "model_id": "c6b1c8b69b894b64b88db8ccab36c8a0",
       "version_major": 2,
       "version_minor": 0
      },
      "text/plain": [
       "  0%|          | 0/1 [00:00<?, ?it/s]"
      ]
     },
     "metadata": {},
     "output_type": "display_data"
    },
    {
     "data": {
      "application/vnd.jupyter.widget-view+json": {
       "model_id": "c3cee0fcb15a43c88f7ac8d1a81b2aa6",
       "version_major": 2,
       "version_minor": 0
      },
      "text/plain": [
       "  0%|          | 0/1 [00:00<?, ?it/s]"
      ]
     },
     "metadata": {},
     "output_type": "display_data"
    },
    {
     "name": "stderr",
     "output_type": "stream",
     "text": [
      " 31%|███       | 15/49 [00:08<00:17,  1.94it/s]"
     ]
    },
    {
     "data": {
      "application/vnd.jupyter.widget-view+json": {
       "model_id": "b2d0517fa7d648449672811024039c67",
       "version_major": 2,
       "version_minor": 0
      },
      "text/plain": [
       "  0%|          | 0/1 [00:00<?, ?it/s]"
      ]
     },
     "metadata": {},
     "output_type": "display_data"
    },
    {
     "data": {
      "application/vnd.jupyter.widget-view+json": {
       "model_id": "5f6d91e9f5214657b81fef01280d5a81",
       "version_major": 2,
       "version_minor": 0
      },
      "text/plain": [
       "  0%|          | 0/1 [00:00<?, ?it/s]"
      ]
     },
     "metadata": {},
     "output_type": "display_data"
    },
    {
     "name": "stderr",
     "output_type": "stream",
     "text": [
      " 33%|███▎      | 16/49 [00:09<00:17,  1.94it/s]"
     ]
    },
    {
     "data": {
      "application/vnd.jupyter.widget-view+json": {
       "model_id": "6d7269cee069456590b8223d0e36749e",
       "version_major": 2,
       "version_minor": 0
      },
      "text/plain": [
       "  0%|          | 0/1 [00:00<?, ?it/s]"
      ]
     },
     "metadata": {},
     "output_type": "display_data"
    },
    {
     "data": {
      "application/vnd.jupyter.widget-view+json": {
       "model_id": "095862a1e648432f94a3e3bf4087164b",
       "version_major": 2,
       "version_minor": 0
      },
      "text/plain": [
       "  0%|          | 0/1 [00:00<?, ?it/s]"
      ]
     },
     "metadata": {},
     "output_type": "display_data"
    },
    {
     "name": "stderr",
     "output_type": "stream",
     "text": [
      " 35%|███▍      | 17/49 [00:09<00:16,  1.94it/s]"
     ]
    },
    {
     "data": {
      "application/vnd.jupyter.widget-view+json": {
       "model_id": "2e299f43048148129c02de2ec57ffc5d",
       "version_major": 2,
       "version_minor": 0
      },
      "text/plain": [
       "  0%|          | 0/1 [00:00<?, ?it/s]"
      ]
     },
     "metadata": {},
     "output_type": "display_data"
    },
    {
     "data": {
      "application/vnd.jupyter.widget-view+json": {
       "model_id": "6a433c932cc040f7b8bc75c3839c7e1f",
       "version_major": 2,
       "version_minor": 0
      },
      "text/plain": [
       "  0%|          | 0/1 [00:00<?, ?it/s]"
      ]
     },
     "metadata": {},
     "output_type": "display_data"
    },
    {
     "name": "stderr",
     "output_type": "stream",
     "text": [
      " 37%|███▋      | 18/49 [00:10<00:15,  1.95it/s]"
     ]
    },
    {
     "data": {
      "application/vnd.jupyter.widget-view+json": {
       "model_id": "055601a8e7a64768906b0d500c071464",
       "version_major": 2,
       "version_minor": 0
      },
      "text/plain": [
       "  0%|          | 0/1 [00:00<?, ?it/s]"
      ]
     },
     "metadata": {},
     "output_type": "display_data"
    },
    {
     "data": {
      "application/vnd.jupyter.widget-view+json": {
       "model_id": "84d0af46459440768ae204c6f808d058",
       "version_major": 2,
       "version_minor": 0
      },
      "text/plain": [
       "  0%|          | 0/1 [00:00<?, ?it/s]"
      ]
     },
     "metadata": {},
     "output_type": "display_data"
    },
    {
     "name": "stderr",
     "output_type": "stream",
     "text": [
      " 39%|███▉      | 19/49 [00:10<00:15,  1.92it/s]"
     ]
    },
    {
     "data": {
      "application/vnd.jupyter.widget-view+json": {
       "model_id": "18850a82acc045e4b249f583dcbb4246",
       "version_major": 2,
       "version_minor": 0
      },
      "text/plain": [
       "  0%|          | 0/1 [00:00<?, ?it/s]"
      ]
     },
     "metadata": {},
     "output_type": "display_data"
    },
    {
     "data": {
      "application/vnd.jupyter.widget-view+json": {
       "model_id": "2589a166c58e4d95b18e753d547148c0",
       "version_major": 2,
       "version_minor": 0
      },
      "text/plain": [
       "  0%|          | 0/1 [00:00<?, ?it/s]"
      ]
     },
     "metadata": {},
     "output_type": "display_data"
    },
    {
     "name": "stderr",
     "output_type": "stream",
     "text": [
      " 41%|████      | 20/49 [00:11<00:15,  1.93it/s]"
     ]
    },
    {
     "data": {
      "application/vnd.jupyter.widget-view+json": {
       "model_id": "2414ba0c9b5341b19619eda313d99c3f",
       "version_major": 2,
       "version_minor": 0
      },
      "text/plain": [
       "  0%|          | 0/1 [00:00<?, ?it/s]"
      ]
     },
     "metadata": {},
     "output_type": "display_data"
    },
    {
     "data": {
      "application/vnd.jupyter.widget-view+json": {
       "model_id": "8ce9c14273bc4e6494e0343c14298497",
       "version_major": 2,
       "version_minor": 0
      },
      "text/plain": [
       "  0%|          | 0/1 [00:00<?, ?it/s]"
      ]
     },
     "metadata": {},
     "output_type": "display_data"
    },
    {
     "name": "stderr",
     "output_type": "stream",
     "text": [
      " 43%|████▎     | 21/49 [00:11<00:14,  1.94it/s]"
     ]
    },
    {
     "data": {
      "application/vnd.jupyter.widget-view+json": {
       "model_id": "767877bbbb194556a978e852cab3171d",
       "version_major": 2,
       "version_minor": 0
      },
      "text/plain": [
       "  0%|          | 0/1 [00:00<?, ?it/s]"
      ]
     },
     "metadata": {},
     "output_type": "display_data"
    },
    {
     "data": {
      "application/vnd.jupyter.widget-view+json": {
       "model_id": "c0ac422c82084b9f9bd2a861ef799d1d",
       "version_major": 2,
       "version_minor": 0
      },
      "text/plain": [
       "  0%|          | 0/1 [00:00<?, ?it/s]"
      ]
     },
     "metadata": {},
     "output_type": "display_data"
    },
    {
     "name": "stderr",
     "output_type": "stream",
     "text": [
      " 45%|████▍     | 22/49 [00:12<00:13,  1.94it/s]"
     ]
    },
    {
     "data": {
      "application/vnd.jupyter.widget-view+json": {
       "model_id": "412111297ade419c846589931f7cfc5c",
       "version_major": 2,
       "version_minor": 0
      },
      "text/plain": [
       "  0%|          | 0/1 [00:00<?, ?it/s]"
      ]
     },
     "metadata": {},
     "output_type": "display_data"
    },
    {
     "data": {
      "application/vnd.jupyter.widget-view+json": {
       "model_id": "e4b7fe889e31464ba214dbc1fa7875e5",
       "version_major": 2,
       "version_minor": 0
      },
      "text/plain": [
       "  0%|          | 0/1 [00:00<?, ?it/s]"
      ]
     },
     "metadata": {},
     "output_type": "display_data"
    },
    {
     "name": "stderr",
     "output_type": "stream",
     "text": [
      " 47%|████▋     | 23/49 [00:12<00:13,  1.94it/s]"
     ]
    },
    {
     "data": {
      "application/vnd.jupyter.widget-view+json": {
       "model_id": "f834f1619bdc4d9e82afd051523b107b",
       "version_major": 2,
       "version_minor": 0
      },
      "text/plain": [
       "  0%|          | 0/1 [00:00<?, ?it/s]"
      ]
     },
     "metadata": {},
     "output_type": "display_data"
    },
    {
     "data": {
      "application/vnd.jupyter.widget-view+json": {
       "model_id": "1d55672adec84df1afc12429163e1e99",
       "version_major": 2,
       "version_minor": 0
      },
      "text/plain": [
       "  0%|          | 0/1 [00:00<?, ?it/s]"
      ]
     },
     "metadata": {},
     "output_type": "display_data"
    },
    {
     "name": "stderr",
     "output_type": "stream",
     "text": [
      " 49%|████▉     | 24/49 [00:13<00:12,  1.94it/s]"
     ]
    },
    {
     "data": {
      "application/vnd.jupyter.widget-view+json": {
       "model_id": "8afb959c4f504bf7878a21134a7041e4",
       "version_major": 2,
       "version_minor": 0
      },
      "text/plain": [
       "  0%|          | 0/1 [00:00<?, ?it/s]"
      ]
     },
     "metadata": {},
     "output_type": "display_data"
    },
    {
     "data": {
      "application/vnd.jupyter.widget-view+json": {
       "model_id": "ceca509bdcd344db8c08c071cc39aee6",
       "version_major": 2,
       "version_minor": 0
      },
      "text/plain": [
       "  0%|          | 0/1 [00:00<?, ?it/s]"
      ]
     },
     "metadata": {},
     "output_type": "display_data"
    },
    {
     "name": "stderr",
     "output_type": "stream",
     "text": [
      " 51%|█████     | 25/49 [00:13<00:12,  1.94it/s]"
     ]
    },
    {
     "data": {
      "application/vnd.jupyter.widget-view+json": {
       "model_id": "1e937e349ae0493f9428fd6aa19bd86c",
       "version_major": 2,
       "version_minor": 0
      },
      "text/plain": [
       "  0%|          | 0/1 [00:00<?, ?it/s]"
      ]
     },
     "metadata": {},
     "output_type": "display_data"
    },
    {
     "data": {
      "application/vnd.jupyter.widget-view+json": {
       "model_id": "4bcc966b5bdc42c6a38bb835ad775130",
       "version_major": 2,
       "version_minor": 0
      },
      "text/plain": [
       "  0%|          | 0/1 [00:00<?, ?it/s]"
      ]
     },
     "metadata": {},
     "output_type": "display_data"
    },
    {
     "name": "stderr",
     "output_type": "stream",
     "text": [
      " 53%|█████▎    | 26/49 [00:14<00:11,  1.95it/s]"
     ]
    },
    {
     "data": {
      "application/vnd.jupyter.widget-view+json": {
       "model_id": "ff50eaa465bd41279502e4da68c0beae",
       "version_major": 2,
       "version_minor": 0
      },
      "text/plain": [
       "  0%|          | 0/1 [00:00<?, ?it/s]"
      ]
     },
     "metadata": {},
     "output_type": "display_data"
    },
    {
     "data": {
      "application/vnd.jupyter.widget-view+json": {
       "model_id": "758a3f21fabd45119c2b82e22558d39a",
       "version_major": 2,
       "version_minor": 0
      },
      "text/plain": [
       "  0%|          | 0/1 [00:00<?, ?it/s]"
      ]
     },
     "metadata": {},
     "output_type": "display_data"
    },
    {
     "name": "stderr",
     "output_type": "stream",
     "text": [
      " 55%|█████▌    | 27/49 [00:14<00:11,  1.95it/s]"
     ]
    },
    {
     "data": {
      "application/vnd.jupyter.widget-view+json": {
       "model_id": "7819a5b1c5cd44bdbb10a39567a0e855",
       "version_major": 2,
       "version_minor": 0
      },
      "text/plain": [
       "  0%|          | 0/1 [00:00<?, ?it/s]"
      ]
     },
     "metadata": {},
     "output_type": "display_data"
    },
    {
     "data": {
      "application/vnd.jupyter.widget-view+json": {
       "model_id": "446021de4c8c460a9454da5f91fa393e",
       "version_major": 2,
       "version_minor": 0
      },
      "text/plain": [
       "  0%|          | 0/1 [00:00<?, ?it/s]"
      ]
     },
     "metadata": {},
     "output_type": "display_data"
    },
    {
     "name": "stderr",
     "output_type": "stream",
     "text": [
      " 57%|█████▋    | 28/49 [00:15<00:10,  1.94it/s]"
     ]
    },
    {
     "data": {
      "application/vnd.jupyter.widget-view+json": {
       "model_id": "e69d76a9873f4d6fa4f3990313b60f45",
       "version_major": 2,
       "version_minor": 0
      },
      "text/plain": [
       "  0%|          | 0/1 [00:00<?, ?it/s]"
      ]
     },
     "metadata": {},
     "output_type": "display_data"
    },
    {
     "data": {
      "application/vnd.jupyter.widget-view+json": {
       "model_id": "ad8805924a5f4e339d002f33fb8529f1",
       "version_major": 2,
       "version_minor": 0
      },
      "text/plain": [
       "  0%|          | 0/1 [00:00<?, ?it/s]"
      ]
     },
     "metadata": {},
     "output_type": "display_data"
    },
    {
     "name": "stderr",
     "output_type": "stream",
     "text": [
      " 59%|█████▉    | 29/49 [00:15<00:10,  1.94it/s]"
     ]
    },
    {
     "data": {
      "application/vnd.jupyter.widget-view+json": {
       "model_id": "224b7b31769941038f70ca6a4db929a7",
       "version_major": 2,
       "version_minor": 0
      },
      "text/plain": [
       "  0%|          | 0/1 [00:00<?, ?it/s]"
      ]
     },
     "metadata": {},
     "output_type": "display_data"
    },
    {
     "data": {
      "application/vnd.jupyter.widget-view+json": {
       "model_id": "3b1e58944d5d4801992ecc40327ac852",
       "version_major": 2,
       "version_minor": 0
      },
      "text/plain": [
       "  0%|          | 0/1 [00:00<?, ?it/s]"
      ]
     },
     "metadata": {},
     "output_type": "display_data"
    },
    {
     "name": "stderr",
     "output_type": "stream",
     "text": [
      " 61%|██████    | 30/49 [00:16<00:09,  1.94it/s]"
     ]
    },
    {
     "data": {
      "application/vnd.jupyter.widget-view+json": {
       "model_id": "c8e7646b8da5431b8f4b252c6b017480",
       "version_major": 2,
       "version_minor": 0
      },
      "text/plain": [
       "  0%|          | 0/1 [00:00<?, ?it/s]"
      ]
     },
     "metadata": {},
     "output_type": "display_data"
    },
    {
     "data": {
      "application/vnd.jupyter.widget-view+json": {
       "model_id": "830c7de8319c40939ed91869f3d426c4",
       "version_major": 2,
       "version_minor": 0
      },
      "text/plain": [
       "  0%|          | 0/1 [00:00<?, ?it/s]"
      ]
     },
     "metadata": {},
     "output_type": "display_data"
    },
    {
     "name": "stderr",
     "output_type": "stream",
     "text": [
      " 63%|██████▎   | 31/49 [00:16<00:09,  1.95it/s]"
     ]
    },
    {
     "data": {
      "application/vnd.jupyter.widget-view+json": {
       "model_id": "a95954c475f6499390c6821e6c33af10",
       "version_major": 2,
       "version_minor": 0
      },
      "text/plain": [
       "  0%|          | 0/1 [00:00<?, ?it/s]"
      ]
     },
     "metadata": {},
     "output_type": "display_data"
    },
    {
     "data": {
      "application/vnd.jupyter.widget-view+json": {
       "model_id": "8f55c1545bce4192b74670643f64b423",
       "version_major": 2,
       "version_minor": 0
      },
      "text/plain": [
       "  0%|          | 0/1 [00:00<?, ?it/s]"
      ]
     },
     "metadata": {},
     "output_type": "display_data"
    },
    {
     "name": "stderr",
     "output_type": "stream",
     "text": [
      " 65%|██████▌   | 32/49 [00:17<00:08,  1.95it/s]"
     ]
    },
    {
     "data": {
      "application/vnd.jupyter.widget-view+json": {
       "model_id": "e5871ba27ff74814809b520aa5e994fe",
       "version_major": 2,
       "version_minor": 0
      },
      "text/plain": [
       "  0%|          | 0/1 [00:00<?, ?it/s]"
      ]
     },
     "metadata": {},
     "output_type": "display_data"
    },
    {
     "data": {
      "application/vnd.jupyter.widget-view+json": {
       "model_id": "df66b2229bc14b5d9bf5d7dde2dbf2f9",
       "version_major": 2,
       "version_minor": 0
      },
      "text/plain": [
       "  0%|          | 0/1 [00:00<?, ?it/s]"
      ]
     },
     "metadata": {},
     "output_type": "display_data"
    },
    {
     "name": "stderr",
     "output_type": "stream",
     "text": [
      " 67%|██████▋   | 33/49 [00:17<00:08,  1.94it/s]"
     ]
    },
    {
     "data": {
      "application/vnd.jupyter.widget-view+json": {
       "model_id": "d3b3581f5f794d05a08c16a30c12d360",
       "version_major": 2,
       "version_minor": 0
      },
      "text/plain": [
       "  0%|          | 0/1 [00:00<?, ?it/s]"
      ]
     },
     "metadata": {},
     "output_type": "display_data"
    },
    {
     "data": {
      "application/vnd.jupyter.widget-view+json": {
       "model_id": "96450f99e1df4376a6f1cfe5c16bab24",
       "version_major": 2,
       "version_minor": 0
      },
      "text/plain": [
       "  0%|          | 0/1 [00:00<?, ?it/s]"
      ]
     },
     "metadata": {},
     "output_type": "display_data"
    },
    {
     "name": "stderr",
     "output_type": "stream",
     "text": [
      " 69%|██████▉   | 34/49 [00:18<00:07,  1.95it/s]"
     ]
    },
    {
     "data": {
      "application/vnd.jupyter.widget-view+json": {
       "model_id": "372739e03d83403facc2c9de144aca44",
       "version_major": 2,
       "version_minor": 0
      },
      "text/plain": [
       "  0%|          | 0/1 [00:00<?, ?it/s]"
      ]
     },
     "metadata": {},
     "output_type": "display_data"
    },
    {
     "data": {
      "application/vnd.jupyter.widget-view+json": {
       "model_id": "3f42cb30a1804f8cbd81d19ad38e9a86",
       "version_major": 2,
       "version_minor": 0
      },
      "text/plain": [
       "  0%|          | 0/1 [00:00<?, ?it/s]"
      ]
     },
     "metadata": {},
     "output_type": "display_data"
    },
    {
     "name": "stderr",
     "output_type": "stream",
     "text": [
      " 71%|███████▏  | 35/49 [00:18<00:07,  1.96it/s]"
     ]
    },
    {
     "data": {
      "application/vnd.jupyter.widget-view+json": {
       "model_id": "222d53b548dc42a49bfde5ae25fb8b15",
       "version_major": 2,
       "version_minor": 0
      },
      "text/plain": [
       "  0%|          | 0/1 [00:00<?, ?it/s]"
      ]
     },
     "metadata": {},
     "output_type": "display_data"
    },
    {
     "data": {
      "application/vnd.jupyter.widget-view+json": {
       "model_id": "4926a296eca14ff0be8fee4a0c325787",
       "version_major": 2,
       "version_minor": 0
      },
      "text/plain": [
       "  0%|          | 0/1 [00:00<?, ?it/s]"
      ]
     },
     "metadata": {},
     "output_type": "display_data"
    },
    {
     "name": "stderr",
     "output_type": "stream",
     "text": [
      " 73%|███████▎  | 36/49 [00:19<00:06,  1.96it/s]"
     ]
    },
    {
     "data": {
      "application/vnd.jupyter.widget-view+json": {
       "model_id": "f5109ef496804b0ead136926069a76d1",
       "version_major": 2,
       "version_minor": 0
      },
      "text/plain": [
       "  0%|          | 0/1 [00:00<?, ?it/s]"
      ]
     },
     "metadata": {},
     "output_type": "display_data"
    },
    {
     "data": {
      "application/vnd.jupyter.widget-view+json": {
       "model_id": "ba63aac58fd84371badb41b51d7ca83b",
       "version_major": 2,
       "version_minor": 0
      },
      "text/plain": [
       "  0%|          | 0/1 [00:00<?, ?it/s]"
      ]
     },
     "metadata": {},
     "output_type": "display_data"
    },
    {
     "name": "stderr",
     "output_type": "stream",
     "text": [
      " 76%|███████▌  | 37/49 [00:20<00:06,  1.95it/s]"
     ]
    },
    {
     "data": {
      "application/vnd.jupyter.widget-view+json": {
       "model_id": "33952bbd93284682a3d4d998430a24de",
       "version_major": 2,
       "version_minor": 0
      },
      "text/plain": [
       "  0%|          | 0/1 [00:00<?, ?it/s]"
      ]
     },
     "metadata": {},
     "output_type": "display_data"
    },
    {
     "data": {
      "application/vnd.jupyter.widget-view+json": {
       "model_id": "bce4934621444cc79e0870ed235b7897",
       "version_major": 2,
       "version_minor": 0
      },
      "text/plain": [
       "  0%|          | 0/1 [00:00<?, ?it/s]"
      ]
     },
     "metadata": {},
     "output_type": "display_data"
    },
    {
     "name": "stderr",
     "output_type": "stream",
     "text": [
      " 78%|███████▊  | 38/49 [00:20<00:05,  1.96it/s]"
     ]
    },
    {
     "data": {
      "application/vnd.jupyter.widget-view+json": {
       "model_id": "9b61ad0d14f846b9b8ffb6f59de9840b",
       "version_major": 2,
       "version_minor": 0
      },
      "text/plain": [
       "  0%|          | 0/1 [00:00<?, ?it/s]"
      ]
     },
     "metadata": {},
     "output_type": "display_data"
    },
    {
     "data": {
      "application/vnd.jupyter.widget-view+json": {
       "model_id": "b435e1bccd7d4202bcbf33b5eb448010",
       "version_major": 2,
       "version_minor": 0
      },
      "text/plain": [
       "  0%|          | 0/1 [00:00<?, ?it/s]"
      ]
     },
     "metadata": {},
     "output_type": "display_data"
    },
    {
     "name": "stderr",
     "output_type": "stream",
     "text": [
      " 80%|███████▉  | 39/49 [00:21<00:05,  1.96it/s]"
     ]
    },
    {
     "data": {
      "application/vnd.jupyter.widget-view+json": {
       "model_id": "2164015f7a924483a8ae4cb7de9fea4d",
       "version_major": 2,
       "version_minor": 0
      },
      "text/plain": [
       "  0%|          | 0/1 [00:00<?, ?it/s]"
      ]
     },
     "metadata": {},
     "output_type": "display_data"
    },
    {
     "data": {
      "application/vnd.jupyter.widget-view+json": {
       "model_id": "ca270fe816df485cac8561261ceba60d",
       "version_major": 2,
       "version_minor": 0
      },
      "text/plain": [
       "  0%|          | 0/1 [00:00<?, ?it/s]"
      ]
     },
     "metadata": {},
     "output_type": "display_data"
    },
    {
     "name": "stderr",
     "output_type": "stream",
     "text": [
      " 82%|████████▏ | 40/49 [00:21<00:04,  1.97it/s]"
     ]
    },
    {
     "data": {
      "application/vnd.jupyter.widget-view+json": {
       "model_id": "355d16b02bb8409f981ed8833dc9a192",
       "version_major": 2,
       "version_minor": 0
      },
      "text/plain": [
       "  0%|          | 0/1 [00:00<?, ?it/s]"
      ]
     },
     "metadata": {},
     "output_type": "display_data"
    },
    {
     "data": {
      "application/vnd.jupyter.widget-view+json": {
       "model_id": "ae6eb3ea580146a49476897daf20cb9f",
       "version_major": 2,
       "version_minor": 0
      },
      "text/plain": [
       "  0%|          | 0/1 [00:00<?, ?it/s]"
      ]
     },
     "metadata": {},
     "output_type": "display_data"
    },
    {
     "name": "stderr",
     "output_type": "stream",
     "text": [
      " 84%|████████▎ | 41/49 [00:22<00:04,  1.97it/s]"
     ]
    },
    {
     "data": {
      "application/vnd.jupyter.widget-view+json": {
       "model_id": "e1746535051141edaeb63310c36205c4",
       "version_major": 2,
       "version_minor": 0
      },
      "text/plain": [
       "  0%|          | 0/1 [00:00<?, ?it/s]"
      ]
     },
     "metadata": {},
     "output_type": "display_data"
    },
    {
     "data": {
      "application/vnd.jupyter.widget-view+json": {
       "model_id": "4936c901d65140f08ee790ff376cb6cb",
       "version_major": 2,
       "version_minor": 0
      },
      "text/plain": [
       "  0%|          | 0/1 [00:00<?, ?it/s]"
      ]
     },
     "metadata": {},
     "output_type": "display_data"
    },
    {
     "name": "stderr",
     "output_type": "stream",
     "text": [
      " 86%|████████▌ | 42/49 [00:22<00:03,  1.95it/s]"
     ]
    },
    {
     "data": {
      "application/vnd.jupyter.widget-view+json": {
       "model_id": "4b0ed54104514d22a761d54180ae64d8",
       "version_major": 2,
       "version_minor": 0
      },
      "text/plain": [
       "  0%|          | 0/1 [00:00<?, ?it/s]"
      ]
     },
     "metadata": {},
     "output_type": "display_data"
    },
    {
     "data": {
      "application/vnd.jupyter.widget-view+json": {
       "model_id": "3dade0f4ee634050a42ea666c5f7cc91",
       "version_major": 2,
       "version_minor": 0
      },
      "text/plain": [
       "  0%|          | 0/1 [00:00<?, ?it/s]"
      ]
     },
     "metadata": {},
     "output_type": "display_data"
    },
    {
     "name": "stderr",
     "output_type": "stream",
     "text": [
      " 88%|████████▊ | 43/49 [00:23<00:03,  1.99it/s]"
     ]
    },
    {
     "data": {
      "application/vnd.jupyter.widget-view+json": {
       "model_id": "e88772a3b9664c52a9f971eb9aac6949",
       "version_major": 2,
       "version_minor": 0
      },
      "text/plain": [
       "  0%|          | 0/1 [00:00<?, ?it/s]"
      ]
     },
     "metadata": {},
     "output_type": "display_data"
    },
    {
     "data": {
      "application/vnd.jupyter.widget-view+json": {
       "model_id": "1a7347ccb4b543479d61bf73131695df",
       "version_major": 2,
       "version_minor": 0
      },
      "text/plain": [
       "  0%|          | 0/1 [00:00<?, ?it/s]"
      ]
     },
     "metadata": {},
     "output_type": "display_data"
    },
    {
     "name": "stderr",
     "output_type": "stream",
     "text": [
      " 90%|████████▉ | 44/49 [00:23<00:02,  2.03it/s]"
     ]
    },
    {
     "data": {
      "application/vnd.jupyter.widget-view+json": {
       "model_id": "903958e637424f67beffe1f4f69da64b",
       "version_major": 2,
       "version_minor": 0
      },
      "text/plain": [
       "  0%|          | 0/1 [00:00<?, ?it/s]"
      ]
     },
     "metadata": {},
     "output_type": "display_data"
    },
    {
     "data": {
      "application/vnd.jupyter.widget-view+json": {
       "model_id": "fc44846c46e34a29a1c2b0ed4bccaf14",
       "version_major": 2,
       "version_minor": 0
      },
      "text/plain": [
       "  0%|          | 0/1 [00:00<?, ?it/s]"
      ]
     },
     "metadata": {},
     "output_type": "display_data"
    },
    {
     "name": "stderr",
     "output_type": "stream",
     "text": [
      " 92%|█████████▏| 45/49 [00:23<00:01,  2.06it/s]"
     ]
    },
    {
     "data": {
      "application/vnd.jupyter.widget-view+json": {
       "model_id": "5aa5bcd8a2654b67a805b3510a081d14",
       "version_major": 2,
       "version_minor": 0
      },
      "text/plain": [
       "  0%|          | 0/1 [00:00<?, ?it/s]"
      ]
     },
     "metadata": {},
     "output_type": "display_data"
    },
    {
     "data": {
      "application/vnd.jupyter.widget-view+json": {
       "model_id": "4f69f41c8e564f558d6d7ff131e964c6",
       "version_major": 2,
       "version_minor": 0
      },
      "text/plain": [
       "  0%|          | 0/1 [00:00<?, ?it/s]"
      ]
     },
     "metadata": {},
     "output_type": "display_data"
    },
    {
     "name": "stderr",
     "output_type": "stream",
     "text": [
      " 94%|█████████▍| 46/49 [00:24<00:01,  2.15it/s]"
     ]
    },
    {
     "data": {
      "application/vnd.jupyter.widget-view+json": {
       "model_id": "49805ffe5d874938ae85da5d58867438",
       "version_major": 2,
       "version_minor": 0
      },
      "text/plain": [
       "  0%|          | 0/1 [00:00<?, ?it/s]"
      ]
     },
     "metadata": {},
     "output_type": "display_data"
    },
    {
     "data": {
      "application/vnd.jupyter.widget-view+json": {
       "model_id": "92d0e5aed7cb47b5bbbe70c8a8e15f43",
       "version_major": 2,
       "version_minor": 0
      },
      "text/plain": [
       "  0%|          | 0/1 [00:00<?, ?it/s]"
      ]
     },
     "metadata": {},
     "output_type": "display_data"
    },
    {
     "name": "stderr",
     "output_type": "stream",
     "text": [
      " 96%|█████████▌| 47/49 [00:24<00:00,  2.28it/s]"
     ]
    },
    {
     "data": {
      "application/vnd.jupyter.widget-view+json": {
       "model_id": "37188c2e911041588cd622c3bf892a39",
       "version_major": 2,
       "version_minor": 0
      },
      "text/plain": [
       "  0%|          | 0/1 [00:00<?, ?it/s]"
      ]
     },
     "metadata": {},
     "output_type": "display_data"
    },
    {
     "data": {
      "application/vnd.jupyter.widget-view+json": {
       "model_id": "bb768f59f6ae408b8d54c0d591ebc890",
       "version_major": 2,
       "version_minor": 0
      },
      "text/plain": [
       "  0%|          | 0/1 [00:00<?, ?it/s]"
      ]
     },
     "metadata": {},
     "output_type": "display_data"
    },
    {
     "name": "stderr",
     "output_type": "stream",
     "text": [
      " 98%|█████████▊| 48/49 [00:25<00:00,  2.39it/s]"
     ]
    },
    {
     "data": {
      "application/vnd.jupyter.widget-view+json": {
       "model_id": "6d036822a58545688948deb793a154e0",
       "version_major": 2,
       "version_minor": 0
      },
      "text/plain": [
       "  0%|          | 0/1 [00:00<?, ?it/s]"
      ]
     },
     "metadata": {},
     "output_type": "display_data"
    },
    {
     "data": {
      "application/vnd.jupyter.widget-view+json": {
       "model_id": "da22afa8f89149dfb4bd54227b1bdf9a",
       "version_major": 2,
       "version_minor": 0
      },
      "text/plain": [
       "  0%|          | 0/1 [00:00<?, ?it/s]"
      ]
     },
     "metadata": {},
     "output_type": "display_data"
    },
    {
     "name": "stderr",
     "output_type": "stream",
     "text": [
      "100%|██████████| 49/49 [00:25<00:00,  1.92it/s]\n"
     ]
    }
   ],
   "source": [
    "isp = InSilicoPerturber(\n",
    "            perturb_type=\"delete\",\n",
    "            genes_to_perturb=['ENSG00000188389'],\n",
    "            #perturb_rank_shift = None,\n",
    "            model_type=\"Pretrained\",\n",
    "            num_classes=0,\n",
    "            emb_mode=\"cell_and_gene\",\n",
    "            cell_emb_style='mean_pool',\n",
    "            max_ncells=1000,\n",
    "            emb_layer=0,\n",
    "            forward_batch_size=100,\n",
    "            nproc=12,\n",
    "            token_dictionary_file='output/token_dictionary.pickle',\n",
    "         )\n",
    "         \n",
    "isp.perturb_data(\n",
    "    model_directory='output/spot/models/250422_102707_stFormer_L6_E3/final',\n",
    "    input_data_file='output/spot/visium_spot.dataset',\n",
    "    output_directory='output/perturb/cell_shift',\n",
    "    output_prefix='perturb_spot')"
   ]
  },
  {
   "cell_type": "markdown",
   "id": "abf336b4",
   "metadata": {},
   "source": [
    "Load cell and gene embedding shifts"
   ]
  },
  {
   "cell_type": "code",
   "execution_count": 3,
   "id": "6b704bdc",
   "metadata": {},
   "outputs": [],
   "source": [
    "# Load files \n",
    "perturb_dir = 'output/perturb'\n",
    "\n",
    "# get full paths to all .pickle files\n",
    "emb_files = [ os.path.join(perturb_dir, fname) for fname in os.listdir(perturb_dir) if fname.endswith('.pickle')]\n",
    "\n",
    "for path in emb_files:\n",
    "    with open(path, 'rb') as f:\n",
    "        if re.search(r'cell_embs_dict', os.path.basename(path)):\n",
    "            cell_embs = pickle.load(f)\n",
    "        else:\n",
    "            gene_embs = pickle.load(f)"
   ]
  },
  {
   "cell_type": "code",
   "execution_count": 4,
   "id": "ba7a793b",
   "metadata": {},
   "outputs": [
    {
     "data": {
      "text/plain": [
       "dict_items([((15038, 'cell_emb'), [0.9695187211036682, 0.9860619902610779, 0.9960430264472961, 0.9818277955055237, 0.9745637774467468, 0.9818611741065979, 0.9647934436798096, 0.9567049145698547, 0.9744642972946167, 0.9758938550949097, 0.9744417667388916, 0.9842076897621155, 0.9857248663902283, 0.9510632157325745, 0.968641459941864, 0.9906181693077087, 0.9694110751152039, 0.9918233156204224, 0.9995539784431458, 0.9906556010246277, 0.974949061870575, 0.9599283933639526, 0.9807274341583252, 0.9833731651306152, 0.9708459377288818, 0.982120156288147, 0.9818634390830994, 0.9544157385826111, 0.9502497911453247, 0.9595029354095459, 0.9833409190177917, 0.9578801393508911, 0.959741473197937, 0.9856753349304199, 0.9993661046028137, 0.9745644330978394, 0.956973135471344, 0.9574887752532959, 0.9780833721160889, 0.9683302640914917, 0.9669605493545532, 0.9660643339157104, 0.9777061343193054, 0.9957241415977478, 0.9893231987953186, 0.9983482360839844, 0.9844056963920593, 0.9700730443000793, 0.9666261076927185, 0.9701581001281738, 0.9835503697395325, 0.9972715377807617, 0.9990165829658508, 0.9941070079803467, 0.9717018604278564, 0.9798270463943481, 0.9737749099731445, 0.9746086597442627, 0.9690732359886169, 0.9835885763168335, 0.9699277877807617, 0.9763253331184387, 0.9804791212081909, 0.99179607629776, 0.9964161515235901, 0.9788146018981934, 0.9808845520019531, 0.9997919797897339, 0.994212806224823, 0.9874476790428162, 0.9749512672424316, 0.9641099572181702, 0.9874034523963928, 0.9891456961631775, 0.9888894557952881, 0.9800105094909668, 0.9789149165153503, 0.9971309304237366, 0.9955535531044006, 0.9945231080055237, 0.97979336977005, 0.9653846025466919, 0.9693233370780945, 0.9837868213653564, 0.9833966493606567, 0.9765478372573853, 0.9671712517738342, 0.9881702065467834, 0.9747289419174194, 0.9704039692878723, 0.9773494005203247, 0.9678239822387695, 0.9913585782051086, 0.9632858037948608, 0.9889951944351196, 0.9675782918930054, 0.9734953045845032, 0.9740311503410339, 0.9688708782196045, 0.9810106158256531, 0.995833694934845, 0.9681901335716248, 0.990281879901886, 0.9643384218215942, 0.9666157960891724, 0.9976784586906433, 0.983354389667511, 0.9857774972915649, 0.955418586730957, 0.9821208119392395, 0.9677128791809082, 0.960365355014801, 0.9677210450172424, 0.973354160785675, 0.9978011250495911, 0.9976944327354431, 0.9649588465690613, 0.9681804776191711, 0.9734253883361816, 0.9687737226486206, 0.9658410549163818, 0.9967471957206726, 0.9519927501678467, 0.9670302867889404, 0.9755430221557617, 0.953018069267273, 0.9940910935401917, 0.9585464000701904, 0.9860517978668213, 0.9875357747077942, 0.9529529809951782, 0.9492157101631165, 0.9886212944984436, 0.953158438205719, 0.9672128558158875, 0.9734088778495789, 0.9700434803962708, 0.9706953763961792, 0.9715197682380676, 0.9686862826347351, 0.9700495600700378, 0.955369770526886, 0.9722539782524109, 0.952644944190979, 0.966064989566803, 0.9699486494064331, 0.9699307680130005, 0.9756339192390442, 0.9724945425987244, 0.9793854355812073, 0.9674146175384521, 0.9663422107696533, 0.9717143774032593, 0.9778969883918762, 0.967706024646759, 0.9740091562271118, 0.9682519435882568, 0.9797974824905396, 0.9678959250450134, 0.9687809944152832, 0.970255970954895, 0.9785116910934448, 0.9683404564857483, 0.9689213633537292, 0.9676595330238342, 0.9678068161010742, 0.9654510021209717, 0.9523932933807373, 0.9513409733772278, 0.9940842390060425, 0.9588882923126221, 0.9886160492897034, 0.9742206931114197, 0.9678829312324524, 0.9749590754508972, 0.9869846701622009, 0.9952613115310669, 0.9846213459968567, 0.9807190895080566, 0.9498513340950012, 0.9884530901908875, 0.9993331432342529, 0.9996690154075623, 0.9521376490592957, 0.9728765487670898, 0.9721314907073975, 0.9769334197044373, 0.9684001207351685, 0.9983026385307312, 0.9636435508728027, 0.9801148772239685, 0.9807813167572021, 0.9703688621520996, 0.9574394822120667, 0.9993535876274109, 0.9753741025924683, 0.985666036605835, 0.9757859706878662, 0.9954044818878174, 0.9968682527542114, 0.9727358222007751, 0.9737861752510071, 0.9961040616035461, 0.9626939296722412, 0.9606902003288269, 0.9538676738739014, 0.9801318049430847, 0.9875389933586121, 0.9903701543807983, 0.9961654543876648, 0.9868756532669067, 0.9954227805137634, 0.9837746024131775, 0.9937661290168762, 0.9682499170303345, 0.9994571208953857, 0.9734547138214111, 0.9791379570960999, 0.9667282700538635, 0.9979828596115112, 0.9863516092300415, 0.9932583570480347, 0.9900176525115967, 0.9643888473510742, 0.9723496437072754, 0.9642935395240784, 0.9946297407150269, 0.9937366843223572, 0.9777165055274963, 0.9637270569801331, 0.9638410806655884, 0.9724739789962769, 0.9856356382369995, 0.9667916297912598, 0.9633566737174988, 0.977855384349823, 0.9761086106300354, 0.9634140729904175, 0.9743353128433228, 0.9715188145637512, 0.9700838923454285, 0.9523620009422302, 0.9636656045913696, 0.9663010835647583, 0.9856429100036621, 0.9770606756210327, 0.9718960523605347, 0.9861945509910583, 0.9640852808952332, 0.9641556739807129, 0.9647259712219238, 0.9678682088851929, 0.963170051574707, 0.9647136330604553, 0.9831108450889587, 0.965434730052948, 0.9814875721931458, 0.9679023027420044, 0.9661067724227905, 0.983945906162262, 0.9744369983673096, 0.9709538221359253, 0.9702935814857483, 0.9694206118583679, 0.9669460654258728, 0.965262234210968, 0.9802611470222473, 0.9733210802078247, 0.9994621276855469, 0.964753270149231, 0.9674988985061646, 0.9787085056304932, 0.9761986136436462, 0.9940683841705322, 0.9669542908668518, 0.9636343717575073, 0.9847632050514221, 0.982104480266571, 0.9993627667427063, 0.9809343814849854, 0.9854349493980408, 0.9957690834999084, 0.9554505944252014, 0.9659184813499451, 0.9938611388206482, 0.9781853556632996, 0.9964990019798279, 0.9757385849952698, 0.9756055474281311, 0.9649764895439148, 0.975845456123352, 0.9707111120223999, 0.9998270273208618, 0.9920405745506287, 0.9831662178039551, 0.9933615922927856, 0.9747097492218018, 0.9903691411018372, 0.9755581617355347, 0.9829849600791931, 0.9678143262863159, 0.9674276113510132, 0.9867292046546936, 0.9685644507408142, 0.998286783695221, 0.9958875179290771, 0.9913404583930969, 0.9593063592910767, 0.9600008726119995, 0.9714102149009705, 0.985448956489563, 0.9817839860916138, 0.9937590956687927, 0.9939973950386047, 0.9673579335212708, 0.9787793755531311, 0.987723708152771, 0.9747206568717957, 0.9686538577079773, 0.9678611159324646, 0.9943971633911133, 0.9484816789627075, 0.9992493391036987, 0.9527864456176758, 0.9829391837120056, 0.9523757696151733, 0.9676619172096252, 0.9997559189796448, 0.9866160154342651, 0.965374231338501, 0.9984596967697144, 0.9725627303123474, 0.9834787249565125, 0.9694687128067017, 0.981012761592865, 0.9729002118110657, 0.9999362826347351, 0.9681932926177979, 0.9495151042938232, 0.9560233354568481, 0.9726678729057312, 0.9536721110343933, 0.9682976007461548, 0.9683266282081604, 0.9724134206771851, 0.9817008376121521, 0.9630047678947449, 0.9604002237319946, 0.9649531245231628, 0.9955073595046997, 0.9537203907966614, 0.9984139800071716, 0.9799443483352661, 0.989831268787384, 0.963532030582428, 0.951654314994812, 0.9660069942474365, 0.977542519569397, 0.9931089878082275, 0.9780319929122925, 0.9878727793693542, 0.9862111210823059, 0.9822560548782349, 0.9667919278144836, 0.9705551862716675, 0.9900097250938416, 0.9943298697471619, 0.9691892862319946, 0.9671174883842468, 0.9866573214530945, 0.9552857279777527, 0.9822283983230591, 0.9729999303817749, 0.9526525735855103, 0.9697780609130859, 0.9845942258834839, 0.9728537797927856, 0.9786092042922974, 0.9870754480361938, 0.9808444380760193, 0.9868435859680176, 0.9794565439224243, 0.980487585067749, 0.9868147373199463, 0.9944459795951843, 0.9827962517738342, 0.9737071990966797, 0.9799890518188477, 0.9978809356689453, 0.9682438373565674, 0.9799811840057373, 0.9559710621833801, 0.9730260372161865, 0.9968206882476807, 0.9898651242256165, 0.9592992663383484, 0.9656293392181396, 0.9676694273948669, 0.996911346912384, 0.970452070236206, 0.9740980267524719, 0.9734389781951904, 0.9826473593711853, 0.9751393795013428, 0.9763554930686951, 0.9801859855651855, 0.9709358811378479, 0.9796215295791626, 0.9680594801902771, 0.9665670394897461, 0.9596108198165894, 0.9522655606269836, 0.9573442935943604, 0.9870024919509888, 0.9939707517623901, 0.9664676189422607, 0.9525650143623352, 0.996436357498169, 0.9640082120895386, 0.9651692509651184, 0.9533136487007141, 0.9653599858283997, 0.9645057320594788, 0.9673550724983215, 0.9524422287940979, 0.9535812139511108, 0.9652742743492126, 0.9646376967430115, 0.9621030688285828, 0.9649394750595093, 0.9665371179580688, 0.9639855027198792, 0.9626033902168274, 0.9641028046607971, 0.965013861656189, 0.964191734790802, 0.9635438919067383, 0.9639343619346619, 0.965004563331604, 0.9639032483100891, 0.9626573920249939, 0.9647465348243713, 0.9645581841468811, 0.9611861705780029, 0.9649125933647156, 0.9652778506278992, 0.9646909832954407, 0.9656347632408142, 0.9638383984565735, 0.9646756649017334, 0.9643586277961731, 0.9645786881446838, 0.963432252407074, 0.9641140103340149, 0.9615417718887329, 0.9635409116744995, 0.9644178748130798, 0.9639809727668762, 0.9662467241287231, 0.9648650884628296, 0.9651045799255371, 0.9658860564231873, 0.9630202651023865, 0.9649839401245117, 0.9536762833595276, 0.9633047580718994, 0.9640878438949585, 0.9633021354675293, 0.965246319770813, 0.965950608253479, 0.9649125337600708, 0.954950213432312, 0.9643235802650452, 0.9643820524215698, 0.9654443264007568, 0.9641938805580139, 0.9654948115348816, 0.9652655124664307, 0.9649119973182678, 0.9663942456245422, 0.9651085138320923, 0.9647167325019836, 0.9646608829498291, 0.964910089969635, 0.9659042358398438, 0.9648979306221008, 0.9654691219329834, 0.9643053412437439, 0.9641942381858826, 0.9637349843978882])])"
      ]
     },
     "execution_count": 4,
     "metadata": {},
     "output_type": "execute_result"
    }
   ],
   "source": [
    "cell_embs.items()"
   ]
  },
  {
   "cell_type": "markdown",
   "id": "06ab3e15",
   "metadata": {},
   "source": [
    "We want to create stats to evaluate the effect of PDCD1 gene expression on:\n",
    "1. Cell embeddings similarity to unperturbed cells\n",
    "2. Gene embedding similarity to unperturbed genes, where we aggregate the gene shifts for our cells for each other token in our dataset\n",
    "    - ex: how does deletion of PDCD1 effect the expression of another gene like CCR5AS\n",
    "    - These results are ranked by mean cosine similarity (lowest -> highest) where low similarity signifies a greater impact on gene expression and a high dependency on the gene expression of our perturbed gene\n",
    "    - provides standeard deviation of cosine similarity between gene embeddings and the number of detections"
   ]
  },
  {
   "cell_type": "code",
   "execution_count": 5,
   "id": "1a9bc21e",
   "metadata": {},
   "outputs": [
    {
     "name": "stderr",
     "output_type": "stream",
     "text": [
      "100%|██████████| 2/2 [00:00<00:00, 30.06it/s]\n"
     ]
    },
    {
     "data": {
      "application/vnd.jupyter.widget-view+json": {
       "model_id": "b13fc35dbb79463a817fd3490355efbc",
       "version_major": 2,
       "version_minor": 0
      },
      "text/plain": [
       "  0%|          | 0/1 [00:00<?, ?it/s]"
      ]
     },
     "metadata": {},
     "output_type": "display_data"
    }
   ],
   "source": [
    "ispstats = InSilicoPerturberStats(\n",
    "    mode='aggregate_gene_shifts',\n",
    "    genes_perturbed = ['ENSG00000188389'],\n",
    "    pickle_suffix = '_raw.pickle',\n",
    "    token_dictionary_file='output/token_dictionary.pickle',\n",
    "    gene_name_id_dictionary_file='output/ensembl_mapping_dict.pickle'\n",
    ")\n",
    "ispstats.get_stats(\n",
    "    input_data_directory = 'output/perturb',\n",
    "    null_dist_data_directory=None,\n",
    "    output_directory = 'output/perturb/perturb_stats',\n",
    "    output_prefix= 'perturb_spot'\n",
    ")"
   ]
  },
  {
   "cell_type": "code",
   "execution_count": 6,
   "id": "49790127",
   "metadata": {},
   "outputs": [
    {
     "data": {
      "text/html": [
       "<div>\n",
       "<style scoped>\n",
       "    .dataframe tbody tr th:only-of-type {\n",
       "        vertical-align: middle;\n",
       "    }\n",
       "\n",
       "    .dataframe tbody tr th {\n",
       "        vertical-align: top;\n",
       "    }\n",
       "\n",
       "    .dataframe thead th {\n",
       "        text-align: right;\n",
       "    }\n",
       "</style>\n",
       "<table border=\"1\" class=\"dataframe\">\n",
       "  <thead>\n",
       "    <tr style=\"text-align: right;\">\n",
       "      <th></th>\n",
       "      <th>Perturbed</th>\n",
       "      <th>Gene_name</th>\n",
       "      <th>Ensembl_ID</th>\n",
       "      <th>Affected</th>\n",
       "      <th>Affected_gene_name</th>\n",
       "      <th>Affected_Ensembl_ID</th>\n",
       "      <th>Cosine_sim_mean</th>\n",
       "      <th>Cosine_sim_stdev</th>\n",
       "      <th>N_Detections</th>\n",
       "    </tr>\n",
       "  </thead>\n",
       "  <tbody>\n",
       "    <tr>\n",
       "      <th>16096</th>\n",
       "      <td>15038</td>\n",
       "      <td>PDCD1</td>\n",
       "      <td>ENSG00000188389</td>\n",
       "      <td>cell_emb</td>\n",
       "      <td>NaN</td>\n",
       "      <td>NaN</td>\n",
       "      <td>0.974385</td>\n",
       "      <td>0.012724</td>\n",
       "      <td>490</td>\n",
       "    </tr>\n",
       "    <tr>\n",
       "      <th>14053</th>\n",
       "      <td>15038</td>\n",
       "      <td>PDCD1</td>\n",
       "      <td>ENSG00000188389</td>\n",
       "      <td>6342</td>\n",
       "      <td>MORF4L2-AS1</td>\n",
       "      <td>ENSG00000231154</td>\n",
       "      <td>0.723488</td>\n",
       "      <td>0.000000</td>\n",
       "      <td>1</td>\n",
       "    </tr>\n",
       "    <tr>\n",
       "      <th>15117</th>\n",
       "      <td>15038</td>\n",
       "      <td>PDCD1</td>\n",
       "      <td>ENSG00000188389</td>\n",
       "      <td>15084</td>\n",
       "      <td>CNGA1</td>\n",
       "      <td>ENSG00000198515</td>\n",
       "      <td>0.796645</td>\n",
       "      <td>0.038457</td>\n",
       "      <td>2</td>\n",
       "    </tr>\n",
       "    <tr>\n",
       "      <th>14433</th>\n",
       "      <td>15038</td>\n",
       "      <td>PDCD1</td>\n",
       "      <td>ENSG00000188389</td>\n",
       "      <td>10688</td>\n",
       "      <td>SERINC4</td>\n",
       "      <td>ENSG00000184716</td>\n",
       "      <td>0.802099</td>\n",
       "      <td>0.000000</td>\n",
       "      <td>1</td>\n",
       "    </tr>\n",
       "    <tr>\n",
       "      <th>9147</th>\n",
       "      <td>15038</td>\n",
       "      <td>PDCD1</td>\n",
       "      <td>ENSG00000188389</td>\n",
       "      <td>15941</td>\n",
       "      <td>CCR5AS</td>\n",
       "      <td>ENSG00000223552</td>\n",
       "      <td>0.814862</td>\n",
       "      <td>0.000000</td>\n",
       "      <td>1</td>\n",
       "    </tr>\n",
       "    <tr>\n",
       "      <th>...</th>\n",
       "      <td>...</td>\n",
       "      <td>...</td>\n",
       "      <td>...</td>\n",
       "      <td>...</td>\n",
       "      <td>...</td>\n",
       "      <td>...</td>\n",
       "      <td>...</td>\n",
       "      <td>...</td>\n",
       "      <td>...</td>\n",
       "    </tr>\n",
       "    <tr>\n",
       "      <th>15714</th>\n",
       "      <td>15038</td>\n",
       "      <td>PDCD1</td>\n",
       "      <td>ENSG00000188389</td>\n",
       "      <td>13172</td>\n",
       "      <td>MTRNR2L3</td>\n",
       "      <td>ENSG00000256222</td>\n",
       "      <td>0.999999</td>\n",
       "      <td>0.000000</td>\n",
       "      <td>1</td>\n",
       "    </tr>\n",
       "    <tr>\n",
       "      <th>15972</th>\n",
       "      <td>15038</td>\n",
       "      <td>PDCD1</td>\n",
       "      <td>ENSG00000188389</td>\n",
       "      <td>16722</td>\n",
       "      <td>MPO</td>\n",
       "      <td>ENSG00000005381</td>\n",
       "      <td>0.999999</td>\n",
       "      <td>0.000000</td>\n",
       "      <td>1</td>\n",
       "    </tr>\n",
       "    <tr>\n",
       "      <th>15752</th>\n",
       "      <td>15038</td>\n",
       "      <td>PDCD1</td>\n",
       "      <td>ENSG00000188389</td>\n",
       "      <td>11045</td>\n",
       "      <td>HBA1</td>\n",
       "      <td>ENSG00000206172</td>\n",
       "      <td>0.999999</td>\n",
       "      <td>0.000000</td>\n",
       "      <td>1</td>\n",
       "    </tr>\n",
       "    <tr>\n",
       "      <th>13381</th>\n",
       "      <td>15038</td>\n",
       "      <td>PDCD1</td>\n",
       "      <td>ENSG00000188389</td>\n",
       "      <td>15799</td>\n",
       "      <td>LINC02608</td>\n",
       "      <td>ENSG00000226251</td>\n",
       "      <td>0.999999</td>\n",
       "      <td>0.000000</td>\n",
       "      <td>1</td>\n",
       "    </tr>\n",
       "    <tr>\n",
       "      <th>15622</th>\n",
       "      <td>15038</td>\n",
       "      <td>PDCD1</td>\n",
       "      <td>ENSG00000188389</td>\n",
       "      <td>11956</td>\n",
       "      <td>SLC5A10</td>\n",
       "      <td>ENSG00000154025</td>\n",
       "      <td>0.999999</td>\n",
       "      <td>0.000000</td>\n",
       "      <td>1</td>\n",
       "    </tr>\n",
       "  </tbody>\n",
       "</table>\n",
       "<p>16097 rows × 9 columns</p>\n",
       "</div>"
      ],
      "text/plain": [
       "       Perturbed Gene_name       Ensembl_ID  Affected Affected_gene_name  \\\n",
       "16096      15038     PDCD1  ENSG00000188389  cell_emb                NaN   \n",
       "14053      15038     PDCD1  ENSG00000188389      6342        MORF4L2-AS1   \n",
       "15117      15038     PDCD1  ENSG00000188389     15084              CNGA1   \n",
       "14433      15038     PDCD1  ENSG00000188389     10688            SERINC4   \n",
       "9147       15038     PDCD1  ENSG00000188389     15941             CCR5AS   \n",
       "...          ...       ...              ...       ...                ...   \n",
       "15714      15038     PDCD1  ENSG00000188389     13172           MTRNR2L3   \n",
       "15972      15038     PDCD1  ENSG00000188389     16722                MPO   \n",
       "15752      15038     PDCD1  ENSG00000188389     11045               HBA1   \n",
       "13381      15038     PDCD1  ENSG00000188389     15799          LINC02608   \n",
       "15622      15038     PDCD1  ENSG00000188389     11956            SLC5A10   \n",
       "\n",
       "      Affected_Ensembl_ID  Cosine_sim_mean  Cosine_sim_stdev  N_Detections  \n",
       "16096                 NaN         0.974385          0.012724           490  \n",
       "14053     ENSG00000231154         0.723488          0.000000             1  \n",
       "15117     ENSG00000198515         0.796645          0.038457             2  \n",
       "14433     ENSG00000184716         0.802099          0.000000             1  \n",
       "9147      ENSG00000223552         0.814862          0.000000             1  \n",
       "...                   ...              ...               ...           ...  \n",
       "15714     ENSG00000256222         0.999999          0.000000             1  \n",
       "15972     ENSG00000005381         0.999999          0.000000             1  \n",
       "15752     ENSG00000206172         0.999999          0.000000             1  \n",
       "13381     ENSG00000226251         0.999999          0.000000             1  \n",
       "15622     ENSG00000154025         0.999999          0.000000             1  \n",
       "\n",
       "[16097 rows x 9 columns]"
      ]
     },
     "execution_count": 6,
     "metadata": {},
     "output_type": "execute_result"
    }
   ],
   "source": [
    "results = pd.read_csv('output/perturb/perturb_stats/perturb_spot.csv',index_col = 0)\n",
    "results #view head of results"
   ]
  },
  {
   "cell_type": "markdown",
   "id": "4735250d",
   "metadata": {},
   "source": [
    "### 1.2 Option B: Delete all Genes and compare Cell State Shifts (Group A -> Group B)"
   ]
  },
  {
   "cell_type": "markdown",
   "id": "48b214d8",
   "metadata": {},
   "source": [
    "\n",
    "1. **Data Filtering & Batching**  \n",
    "   - `perturb_data()` loads and filters your input dataset.  \n",
    "   - In `isp_perturb_set()` or `isp_perturb_all()`, cells are grouped into batches of size `forward_batch_size`.\n",
    "\n",
    "2. **Define Transition**  \n",
    "   -  `get_state_embs` \n",
    "\n",
    "3. **Embedding Extraction**  \n",
    "   - **Original** (`full_orig`) and **perturbed** (`full_pert`) token sequences are passed through the model (via `get_embs`) to collect hidden‐state tensors.  \n",
    "   - Because overexpressed tokens were prepended, the **first N** positions of `full_pert` are your newly-inserted genes; the rest align with the original token order.\n",
    "\n",
    "4. **Cosine‐Similarity Quantification**  \n",
    "   - **Gene-level**: `pu.quant_cos_sims(pert_emb, original_emb, …, emb_mode=\"gene\")` computes how each remaining gene embedding shifts when your target gene is overexpressed.  \n",
    "   - **Cell-level** (if `cell_states_to_model` is set): average the non-padding embeddings before & after overexpression and quantify that shift against your state-embedding targets.\n",
    "\n",
    "5. **Aggregation & Output**  \n",
    "   - For each cell or state, cosine-similarities are averaged (or bucketed) and stored in a dictionary keyed by the perturbed gene(s).  \n",
    "   - Final results are written out as “_cell_embs_dict_…” and—if `emb_mode=\"cell_and_gene\"`—also “_gene_embs_dict_…” files you can analyze with `in_silico_perturber_stats`."
   ]
  },
  {
   "cell_type": "code",
   "execution_count": 7,
   "id": "cd11269c",
   "metadata": {},
   "outputs": [],
   "source": [
    "from stFormer.tokenization.embedding_extractor import EmbExtractor"
   ]
  },
  {
   "cell_type": "code",
   "execution_count": 8,
   "id": "25423ce4",
   "metadata": {},
   "outputs": [],
   "source": [
    "cell_states_to_model = {'state_key':'classification',\n",
    "                        'start_state': 'Invasive cancer',\n",
    "                        'goal_state': 'Invasive cancer + lymphocytes',\n",
    "                        'alt_states': ['Invasive cancer + stroma','Invasive cancer + stroma + lymphocytes']}"
   ]
  },
  {
   "cell_type": "code",
   "execution_count": 9,
   "id": "5804f4f5",
   "metadata": {},
   "outputs": [
    {
     "data": {
      "application/vnd.jupyter.widget-view+json": {
       "model_id": "59643653939942f29890346edc2acda5",
       "version_major": 2,
       "version_minor": 0
      },
      "text/plain": [
       "  0%|          | 0/4 [00:00<?, ?it/s]"
      ]
     },
     "metadata": {},
     "output_type": "display_data"
    },
    {
     "data": {
      "application/vnd.jupyter.widget-view+json": {
       "model_id": "0662ad746d614217abadbffb6d8de780",
       "version_major": 2,
       "version_minor": 0
      },
      "text/plain": [
       "  0%|          | 0/10 [00:00<?, ?it/s]"
      ]
     },
     "metadata": {},
     "output_type": "display_data"
    },
    {
     "data": {
      "application/vnd.jupyter.widget-view+json": {
       "model_id": "35110b79abae4ebe9f11ddb32c72e9fa",
       "version_major": 2,
       "version_minor": 0
      },
      "text/plain": [
       "  0%|          | 0/10 [00:00<?, ?it/s]"
      ]
     },
     "metadata": {},
     "output_type": "display_data"
    },
    {
     "data": {
      "application/vnd.jupyter.widget-view+json": {
       "model_id": "267fac62ec1e49f2881e5eac3d20f487",
       "version_major": 2,
       "version_minor": 0
      },
      "text/plain": [
       "  0%|          | 0/10 [00:00<?, ?it/s]"
      ]
     },
     "metadata": {},
     "output_type": "display_data"
    }
   ],
   "source": [
    "embex = EmbExtractor(\n",
    "    model_type = 'Pretrained',\n",
    "    num_classes=2,\n",
    "    filter_data = None,\n",
    "    max_ncells = 1000,\n",
    "    emb_layer=0,\n",
    "    summary_stat='exact_mean',\n",
    "    forward_batch_size=100,\n",
    "    token_dictionary_file='output/token_dictionary.pickle',\n",
    "    nproc = 16\n",
    ")\n",
    "\n",
    "state_embs_dict = embex.get_state_embs(\n",
    "    cell_states_to_model,\n",
    "    model_directory='output/spot/models/250422_102707_stFormer_L6_E3/final',\n",
    "    input_data_file='output/spot/visium_spot.dataset',\n",
    "    output_directory='output/perturb/cell_shift',\n",
    "    output_prefix='spot_state_shift'\n",
    ")"
   ]
  },
  {
   "cell_type": "markdown",
   "id": "9840fb81",
   "metadata": {},
   "source": [
    "visualize state embeddings"
   ]
  },
  {
   "cell_type": "code",
   "execution_count": 11,
   "id": "655a0287",
   "metadata": {},
   "outputs": [
    {
     "name": "stdout",
     "output_type": "stream",
     "text": [
      "Invasive cancer\n",
      "Invasive cancer + lymphocytes\n",
      "Invasive cancer + stroma\n",
      "Invasive cancer + stroma + lymphocytes\n"
     ]
    }
   ],
   "source": [
    "for key,value in state_embs_dict.items():\n",
    "    print(key)"
   ]
  },
  {
   "cell_type": "markdown",
   "id": "523120d6",
   "metadata": {},
   "source": [
    "Perform Perturbtion of all genes and compare cosine similarity from start state to goal state and rank according to shift to goal state"
   ]
  },
  {
   "cell_type": "code",
   "execution_count": 1,
   "id": "ae1fd7be",
   "metadata": {},
   "outputs": [],
   "source": [
    "from stFormer.perturbation.stFormer_perturb import InSilicoPerturber\n",
    "from stFormer.perturbation.perturb_stats import InSilicoPerturberStats"
   ]
  },
  {
   "cell_type": "code",
   "execution_count": null,
   "id": "e224b78e",
   "metadata": {},
   "outputs": [],
   "source": [
    "isp = InSilicoPerturber(\n",
    "            perturb_type=\"delete\",\n",
    "            perturb_rank_shift=None,\n",
    "            combos=0,\n",
    "            anchor_gene=None,\n",
    "            genes_to_perturb='all',\n",
    "            cell_states_to_model=cell_states_to_model,\n",
    "            state_embs_dict = state_embs_dict,\n",
    "            model_type=\"Pretrained\",\n",
    "            num_classes=0,\n",
    "            emb_mode=\"cell\",\n",
    "            cell_emb_style='mean_pool',\n",
    "            max_ncells=None,\n",
    "            emb_layer=0,\n",
    "            forward_batch_size=100,\n",
    "            nproc=12,\n",
    "            token_dictionary_file='output/token_dictionary.pickle',\n",
    "         )\n",
    "         \n",
    "isp.perturb_data(\n",
    "    model_directory='output/spot/models/250422_102707_stFormer_L6_E3/final',\n",
    "    input_data_file='output/spot/visium_spot.dataset',\n",
    "    output_directory='output/perturb/cell_shift',\n",
    "    output_prefix='perturb_spot')"
   ]
  },
  {
   "cell_type": "code",
   "execution_count": 3,
   "id": "cca50e99",
   "metadata": {},
   "outputs": [
    {
     "name": "stderr",
     "output_type": "stream",
     "text": [
      "  0%|          | 0/2 [00:00<?, ?it/s]"
     ]
    },
    {
     "name": "stderr",
     "output_type": "stream",
     "text": [
      "100%|██████████| 2/2 [00:00<00:00,  8.68it/s]\n",
      "Collecting Cosine Sims: 100%|██████████| 11664/11664 [08:18<00:00, 23.41it/s]\n"
     ]
    }
   ],
   "source": [
    "ispstats = InSilicoPerturberStats(mode=\"goal_state_shift\",\n",
    "                                  genes_perturbed=\"all\",\n",
    "                                  combos=0,\n",
    "                                  anchor_gene=None,\n",
    "                                  cell_states_to_model=cell_states_to_model,\n",
    "                                  token_dictionary_file='output/token_dictionary.pickle',\n",
    "                                  gene_name_id_dictionary_file='output/ensembl_mapping_dict.pickle')\n",
    "ispstats.get_stats(\n",
    "    input_data_directory=\"output/perturb/cell_shift\", # this should be the directory \n",
    "    null_dist_data_directory=None,\n",
    "    output_directory=\"output/perturb/cell_shift/perturb_stats\",\n",
    "    output_prefix=\"visium_spot\")"
   ]
  },
  {
   "cell_type": "markdown",
   "id": "9fcd71e3",
   "metadata": {},
   "source": [
    "Structure of this dataset follows:\n",
    "1. `Gene`: Token ID \n",
    "2. `Gene Name`: hgnc name for gene\n",
    "3. `Ensembl_ID`: matching ensembl gene id \n",
    "4. `Shift to goal end`: cosine shift from start state towards goal end state in response to given perturbation\n",
    "5. `Goal end vs random pvalue`: pvalue of cosine shift from start state towards goal end state by Wilcoxon to random distribution of max 10,000 cells\n",
    "6. `N Detections`: Number of cells where the perturbed gene was detected/perturbed\n",
    "7. `Shift to alternate end state`: Cosine shift from start state towards alternate end state in response to perturbation\n",
    "8. `Goal end FDR`: Benjamini Hochberg correction of Goal State vs Null Pvalue\n",
    "9. `Alt End FDR`: Multiple Hypothesis Test Correction of Alternate State End vs Random Pvalue \n",
    "10. `Sig`: Binarized False Discovery Rate below significant (FDR < 0.05)"
   ]
  },
  {
   "cell_type": "code",
   "execution_count": 5,
   "id": "c0cd9230",
   "metadata": {},
   "outputs": [],
   "source": [
    "import pandas as pd"
   ]
  },
  {
   "cell_type": "code",
   "execution_count": 8,
   "id": "304e769d",
   "metadata": {},
   "outputs": [
    {
     "data": {
      "text/html": [
       "<div>\n",
       "<style scoped>\n",
       "    .dataframe tbody tr th:only-of-type {\n",
       "        vertical-align: middle;\n",
       "    }\n",
       "\n",
       "    .dataframe tbody tr th {\n",
       "        vertical-align: top;\n",
       "    }\n",
       "\n",
       "    .dataframe thead th {\n",
       "        text-align: right;\n",
       "    }\n",
       "</style>\n",
       "<table border=\"1\" class=\"dataframe\">\n",
       "  <thead>\n",
       "    <tr style=\"text-align: right;\">\n",
       "      <th></th>\n",
       "      <th>Gene</th>\n",
       "      <th>Gene_name</th>\n",
       "      <th>Ensembl_ID</th>\n",
       "      <th>Shift_to_goal_end</th>\n",
       "      <th>Goal_end_vs_random_pval</th>\n",
       "      <th>N_Detections</th>\n",
       "      <th>Shift_to_alt_end_Invasive cancer + stroma</th>\n",
       "      <th>Alt_end_vs_random_pval_Invasive cancer + stroma</th>\n",
       "      <th>Shift_to_alt_end_Invasive cancer + stroma + lymphocytes</th>\n",
       "      <th>Alt_end_vs_random_pval_Invasive cancer + stroma + lymphocytes</th>\n",
       "      <th>Goal_end_FDR</th>\n",
       "      <th>Alt_end_FDR_Invasive cancer + stroma</th>\n",
       "      <th>Alt_end_FDR_Invasive cancer + stroma + lymphocytes</th>\n",
       "      <th>Sig</th>\n",
       "    </tr>\n",
       "  </thead>\n",
       "  <tbody>\n",
       "    <tr>\n",
       "      <th>2979</th>\n",
       "      <td>3907</td>\n",
       "      <td>ANKRD37</td>\n",
       "      <td>ENSG00000186352</td>\n",
       "      <td>0.001014</td>\n",
       "      <td>0.027741</td>\n",
       "      <td>5</td>\n",
       "      <td>0.000712</td>\n",
       "      <td>0.174332</td>\n",
       "      <td>0.000750</td>\n",
       "      <td>0.090140</td>\n",
       "      <td>0.924671</td>\n",
       "      <td>0.913586</td>\n",
       "      <td>0.873315</td>\n",
       "      <td>0</td>\n",
       "    </tr>\n",
       "    <tr>\n",
       "      <th>11646</th>\n",
       "      <td>17551</td>\n",
       "      <td>SPINK4</td>\n",
       "      <td>ENSG00000122711</td>\n",
       "      <td>0.000910</td>\n",
       "      <td>0.175442</td>\n",
       "      <td>6</td>\n",
       "      <td>0.001164</td>\n",
       "      <td>0.132797</td>\n",
       "      <td>0.001139</td>\n",
       "      <td>0.133500</td>\n",
       "      <td>0.953533</td>\n",
       "      <td>0.886458</td>\n",
       "      <td>0.888611</td>\n",
       "      <td>0</td>\n",
       "    </tr>\n",
       "    <tr>\n",
       "      <th>7884</th>\n",
       "      <td>10285</td>\n",
       "      <td>ARID4A</td>\n",
       "      <td>ENSG00000032219</td>\n",
       "      <td>0.000824</td>\n",
       "      <td>0.023335</td>\n",
       "      <td>10</td>\n",
       "      <td>0.000348</td>\n",
       "      <td>0.601956</td>\n",
       "      <td>0.000403</td>\n",
       "      <td>0.424766</td>\n",
       "      <td>0.924671</td>\n",
       "      <td>0.982160</td>\n",
       "      <td>0.959837</td>\n",
       "      <td>0</td>\n",
       "    </tr>\n",
       "    <tr>\n",
       "      <th>9497</th>\n",
       "      <td>12278</td>\n",
       "      <td>HOXB-AS1</td>\n",
       "      <td>ENSG00000230148</td>\n",
       "      <td>0.000818</td>\n",
       "      <td>0.024909</td>\n",
       "      <td>6</td>\n",
       "      <td>0.000750</td>\n",
       "      <td>0.044214</td>\n",
       "      <td>0.000770</td>\n",
       "      <td>0.026993</td>\n",
       "      <td>0.924671</td>\n",
       "      <td>0.823552</td>\n",
       "      <td>0.790271</td>\n",
       "      <td>0</td>\n",
       "    </tr>\n",
       "    <tr>\n",
       "      <th>10644</th>\n",
       "      <td>13690</td>\n",
       "      <td>PBX4</td>\n",
       "      <td>ENSG00000105717</td>\n",
       "      <td>0.000778</td>\n",
       "      <td>0.003643</td>\n",
       "      <td>7</td>\n",
       "      <td>0.001221</td>\n",
       "      <td>0.005439</td>\n",
       "      <td>0.001154</td>\n",
       "      <td>0.005040</td>\n",
       "      <td>0.924671</td>\n",
       "      <td>0.734657</td>\n",
       "      <td>0.715931</td>\n",
       "      <td>0</td>\n",
       "    </tr>\n",
       "    <tr>\n",
       "      <th>...</th>\n",
       "      <td>...</td>\n",
       "      <td>...</td>\n",
       "      <td>...</td>\n",
       "      <td>...</td>\n",
       "      <td>...</td>\n",
       "      <td>...</td>\n",
       "      <td>...</td>\n",
       "      <td>...</td>\n",
       "      <td>...</td>\n",
       "      <td>...</td>\n",
       "      <td>...</td>\n",
       "      <td>...</td>\n",
       "      <td>...</td>\n",
       "      <td>...</td>\n",
       "    </tr>\n",
       "    <tr>\n",
       "      <th>53</th>\n",
       "      <td>64</td>\n",
       "      <td>TTC34</td>\n",
       "      <td>ENSG00000215912</td>\n",
       "      <td>-0.000763</td>\n",
       "      <td>0.013673</td>\n",
       "      <td>9</td>\n",
       "      <td>0.000024</td>\n",
       "      <td>0.509069</td>\n",
       "      <td>-0.000080</td>\n",
       "      <td>0.630417</td>\n",
       "      <td>0.924671</td>\n",
       "      <td>0.974761</td>\n",
       "      <td>0.974686</td>\n",
       "      <td>0</td>\n",
       "    </tr>\n",
       "    <tr>\n",
       "      <th>5066</th>\n",
       "      <td>6672</td>\n",
       "      <td>IDO1</td>\n",
       "      <td>ENSG00000131203</td>\n",
       "      <td>-0.000782</td>\n",
       "      <td>0.055477</td>\n",
       "      <td>7</td>\n",
       "      <td>-0.000479</td>\n",
       "      <td>0.125197</td>\n",
       "      <td>-0.000522</td>\n",
       "      <td>0.074521</td>\n",
       "      <td>0.924671</td>\n",
       "      <td>0.886458</td>\n",
       "      <td>0.853843</td>\n",
       "      <td>0</td>\n",
       "    </tr>\n",
       "    <tr>\n",
       "      <th>5856</th>\n",
       "      <td>7701</td>\n",
       "      <td>CAVIN3</td>\n",
       "      <td>ENSG00000170955</td>\n",
       "      <td>-0.000879</td>\n",
       "      <td>0.013125</td>\n",
       "      <td>6</td>\n",
       "      <td>-0.000491</td>\n",
       "      <td>0.008692</td>\n",
       "      <td>-0.000545</td>\n",
       "      <td>0.005454</td>\n",
       "      <td>0.924671</td>\n",
       "      <td>0.734657</td>\n",
       "      <td>0.715931</td>\n",
       "      <td>0</td>\n",
       "    </tr>\n",
       "    <tr>\n",
       "      <th>479</th>\n",
       "      <td>604</td>\n",
       "      <td>FYB2</td>\n",
       "      <td>ENSG00000187889</td>\n",
       "      <td>-0.000925</td>\n",
       "      <td>0.005857</td>\n",
       "      <td>11</td>\n",
       "      <td>-0.000171</td>\n",
       "      <td>0.891572</td>\n",
       "      <td>-0.000269</td>\n",
       "      <td>0.694267</td>\n",
       "      <td>0.924671</td>\n",
       "      <td>0.996187</td>\n",
       "      <td>0.985234</td>\n",
       "      <td>0</td>\n",
       "    </tr>\n",
       "    <tr>\n",
       "      <th>4609</th>\n",
       "      <td>6032</td>\n",
       "      <td>SHROOM2</td>\n",
       "      <td>ENSG00000146950</td>\n",
       "      <td>-0.001132</td>\n",
       "      <td>0.015731</td>\n",
       "      <td>6</td>\n",
       "      <td>-0.000631</td>\n",
       "      <td>0.063054</td>\n",
       "      <td>-0.000729</td>\n",
       "      <td>0.040795</td>\n",
       "      <td>0.924671</td>\n",
       "      <td>0.848050</td>\n",
       "      <td>0.828248</td>\n",
       "      <td>0</td>\n",
       "    </tr>\n",
       "  </tbody>\n",
       "</table>\n",
       "<p>11664 rows × 14 columns</p>\n",
       "</div>"
      ],
      "text/plain": [
       "        Gene Gene_name       Ensembl_ID  Shift_to_goal_end  \\\n",
       "2979    3907   ANKRD37  ENSG00000186352           0.001014   \n",
       "11646  17551    SPINK4  ENSG00000122711           0.000910   \n",
       "7884   10285    ARID4A  ENSG00000032219           0.000824   \n",
       "9497   12278  HOXB-AS1  ENSG00000230148           0.000818   \n",
       "10644  13690      PBX4  ENSG00000105717           0.000778   \n",
       "...      ...       ...              ...                ...   \n",
       "53        64     TTC34  ENSG00000215912          -0.000763   \n",
       "5066    6672      IDO1  ENSG00000131203          -0.000782   \n",
       "5856    7701    CAVIN3  ENSG00000170955          -0.000879   \n",
       "479      604      FYB2  ENSG00000187889          -0.000925   \n",
       "4609    6032   SHROOM2  ENSG00000146950          -0.001132   \n",
       "\n",
       "       Goal_end_vs_random_pval  N_Detections  \\\n",
       "2979                  0.027741             5   \n",
       "11646                 0.175442             6   \n",
       "7884                  0.023335            10   \n",
       "9497                  0.024909             6   \n",
       "10644                 0.003643             7   \n",
       "...                        ...           ...   \n",
       "53                    0.013673             9   \n",
       "5066                  0.055477             7   \n",
       "5856                  0.013125             6   \n",
       "479                   0.005857            11   \n",
       "4609                  0.015731             6   \n",
       "\n",
       "       Shift_to_alt_end_Invasive cancer + stroma  \\\n",
       "2979                                    0.000712   \n",
       "11646                                   0.001164   \n",
       "7884                                    0.000348   \n",
       "9497                                    0.000750   \n",
       "10644                                   0.001221   \n",
       "...                                          ...   \n",
       "53                                      0.000024   \n",
       "5066                                   -0.000479   \n",
       "5856                                   -0.000491   \n",
       "479                                    -0.000171   \n",
       "4609                                   -0.000631   \n",
       "\n",
       "       Alt_end_vs_random_pval_Invasive cancer + stroma  \\\n",
       "2979                                          0.174332   \n",
       "11646                                         0.132797   \n",
       "7884                                          0.601956   \n",
       "9497                                          0.044214   \n",
       "10644                                         0.005439   \n",
       "...                                                ...   \n",
       "53                                            0.509069   \n",
       "5066                                          0.125197   \n",
       "5856                                          0.008692   \n",
       "479                                           0.891572   \n",
       "4609                                          0.063054   \n",
       "\n",
       "       Shift_to_alt_end_Invasive cancer + stroma + lymphocytes  \\\n",
       "2979                                            0.000750         \n",
       "11646                                           0.001139         \n",
       "7884                                            0.000403         \n",
       "9497                                            0.000770         \n",
       "10644                                           0.001154         \n",
       "...                                                  ...         \n",
       "53                                             -0.000080         \n",
       "5066                                           -0.000522         \n",
       "5856                                           -0.000545         \n",
       "479                                            -0.000269         \n",
       "4609                                           -0.000729         \n",
       "\n",
       "       Alt_end_vs_random_pval_Invasive cancer + stroma + lymphocytes  \\\n",
       "2979                                            0.090140               \n",
       "11646                                           0.133500               \n",
       "7884                                            0.424766               \n",
       "9497                                            0.026993               \n",
       "10644                                           0.005040               \n",
       "...                                                  ...               \n",
       "53                                              0.630417               \n",
       "5066                                            0.074521               \n",
       "5856                                            0.005454               \n",
       "479                                             0.694267               \n",
       "4609                                            0.040795               \n",
       "\n",
       "       Goal_end_FDR  Alt_end_FDR_Invasive cancer + stroma  \\\n",
       "2979       0.924671                              0.913586   \n",
       "11646      0.953533                              0.886458   \n",
       "7884       0.924671                              0.982160   \n",
       "9497       0.924671                              0.823552   \n",
       "10644      0.924671                              0.734657   \n",
       "...             ...                                   ...   \n",
       "53         0.924671                              0.974761   \n",
       "5066       0.924671                              0.886458   \n",
       "5856       0.924671                              0.734657   \n",
       "479        0.924671                              0.996187   \n",
       "4609       0.924671                              0.848050   \n",
       "\n",
       "       Alt_end_FDR_Invasive cancer + stroma + lymphocytes  Sig  \n",
       "2979                                            0.873315     0  \n",
       "11646                                           0.888611     0  \n",
       "7884                                            0.959837     0  \n",
       "9497                                            0.790271     0  \n",
       "10644                                           0.715931     0  \n",
       "...                                                  ...   ...  \n",
       "53                                              0.974686     0  \n",
       "5066                                            0.853843     0  \n",
       "5856                                            0.715931     0  \n",
       "479                                             0.985234     0  \n",
       "4609                                            0.828248     0  \n",
       "\n",
       "[11664 rows x 14 columns]"
      ]
     },
     "execution_count": 8,
     "metadata": {},
     "output_type": "execute_result"
    }
   ],
   "source": [
    "cell_shift_stats = pd.read_csv('output/perturb/cell_shift/perturb_stats/visium_spot.csv',index_col=0)\n",
    "cell_shift_stats"
   ]
  },
  {
   "cell_type": "markdown",
   "id": "1bbee5f1",
   "metadata": {},
   "source": [
    "### 1.3 Option C: Overexpress Gene"
   ]
  },
  {
   "cell_type": "markdown",
   "id": "309994e2",
   "metadata": {},
   "source": [
    "\n",
    "1. **Data Filtering & Batching**  \n",
    "   - `perturb_data()` loads and filters your input dataset.  \n",
    "   - In `isp_perturb_set()` or `isp_perturb_all()`, cells are grouped into batches of size `forward_batch_size`.\n",
    "\n",
    "2. **Applying Overexpression**  \n",
    "   - For each example, `pu.overexpress_tokens(...)` takes the token indices of your gene(s) and **inserts** them at the **front** of the token list.  \n",
    "\n",
    "3. **Embedding Extraction**  \n",
    "   - **Original** (`full_orig`) and **perturbed** (`full_pert`) token sequences are passed through the model (via `get_embs`) to collect hidden‐state tensors.  \n",
    "   - Because overexpressed tokens were prepended, the **first N** positions of `full_pert` are your newly-inserted genes; the rest align with the original token order.\n",
    "\n",
    "4. **Cosine‐Similarity Quantification**  \n",
    "   - **Gene-level**: `pu.quant_cos_sims(pert_emb, original_emb, …, emb_mode=\"gene\")` computes how each remaining gene embedding shifts when your target gene is overexpressed.  \n",
    "   - **Cell-level** (if `cell_states_to_model` is set): average the non-padding embeddings before & after overexpression and quantify that shift against your state-embedding targets.\n",
    "\n",
    "5. **Aggregation & Output**  \n",
    "   - For each cell or state, cosine-similarities are averaged (or bucketed) and stored in a dictionary keyed by the perturbed gene(s).  \n",
    "   - Final results are written out as “_cell_embs_dict_…” and—if `emb_mode=\"cell_and_gene\"`—also “_gene_embs_dict_…” files you can analyze with `in_silico_perturber_stats`."
   ]
  },
  {
   "cell_type": "code",
   "execution_count": 1,
   "id": "c9e6a363",
   "metadata": {},
   "outputs": [],
   "source": [
    "from stFormer.perturbation.stFormer_perturb import InSilicoPerturber\n",
    "from stFormer.perturbation.perturb_stats import InSilicoPerturberStats"
   ]
  },
  {
   "cell_type": "code",
   "execution_count": 2,
   "id": "7d148937",
   "metadata": {},
   "outputs": [
    {
     "name": "stderr",
     "output_type": "stream",
     "text": [
      "filter_data['subtype'] converted to list: ['TNBC']\n"
     ]
    },
    {
     "ename": "AttributeError",
     "evalue": "'InSilicoPerturber' object has no attribute 'isp_perturb_set'",
     "output_type": "error",
     "traceback": [
      "\u001b[0;31m---------------------------------------------------------------------------\u001b[0m",
      "\u001b[0;31mAttributeError\u001b[0m                            Traceback (most recent call last)",
      "Cell \u001b[0;32mIn[2], line 17\u001b[0m\n\u001b[1;32m      1\u001b[0m isp \u001b[38;5;241m=\u001b[39m InSilicoPerturber(\n\u001b[1;32m      2\u001b[0m             perturb_type\u001b[38;5;241m=\u001b[39m\u001b[38;5;124m\"\u001b[39m\u001b[38;5;124moverexpress\u001b[39m\u001b[38;5;124m\"\u001b[39m,\n\u001b[1;32m      3\u001b[0m             genes_to_perturb\u001b[38;5;241m=\u001b[39m[\u001b[38;5;124m'\u001b[39m\u001b[38;5;124mENSG00000091831\u001b[39m\u001b[38;5;124m'\u001b[39m], \u001b[38;5;66;03m#ESR1,\u001b[39;00m\n\u001b[0;32m   (...)\u001b[0m\n\u001b[1;32m     14\u001b[0m             token_dictionary_file\u001b[38;5;241m=\u001b[39m\u001b[38;5;124m'\u001b[39m\u001b[38;5;124moutput/token_dictionary.pickle\u001b[39m\u001b[38;5;124m'\u001b[39m,\n\u001b[1;32m     15\u001b[0m          )\n\u001b[0;32m---> 17\u001b[0m \u001b[43misp\u001b[49m\u001b[38;5;241;43m.\u001b[39;49m\u001b[43mperturb_data\u001b[49m\u001b[43m(\u001b[49m\n\u001b[1;32m     18\u001b[0m \u001b[43m    \u001b[49m\u001b[43mmodel_directory\u001b[49m\u001b[38;5;241;43m=\u001b[39;49m\u001b[38;5;124;43m'\u001b[39;49m\u001b[38;5;124;43moutput/spot/models/250422_102707_stFormer_L6_E3/final\u001b[39;49m\u001b[38;5;124;43m'\u001b[39;49m\u001b[43m,\u001b[49m\n\u001b[1;32m     19\u001b[0m \u001b[43m    \u001b[49m\u001b[43minput_data_file\u001b[49m\u001b[38;5;241;43m=\u001b[39;49m\u001b[38;5;124;43m'\u001b[39;49m\u001b[38;5;124;43moutput/spot/visium_spot.dataset\u001b[39;49m\u001b[38;5;124;43m'\u001b[39;49m\u001b[43m,\u001b[49m\n\u001b[1;32m     20\u001b[0m \u001b[43m    \u001b[49m\u001b[43moutput_directory\u001b[49m\u001b[38;5;241;43m=\u001b[39;49m\u001b[38;5;124;43m'\u001b[39;49m\u001b[38;5;124;43moutput/perturb/overexpress\u001b[39;49m\u001b[38;5;124;43m'\u001b[39;49m\u001b[43m,\u001b[49m\n\u001b[1;32m     21\u001b[0m \u001b[43m    \u001b[49m\u001b[43moutput_prefix\u001b[49m\u001b[38;5;241;43m=\u001b[39;49m\u001b[38;5;124;43m'\u001b[39;49m\u001b[38;5;124;43mperturb_spot\u001b[39;49m\u001b[38;5;124;43m'\u001b[39;49m\u001b[43m)\u001b[49m\n",
      "File \u001b[0;32m/media/qian/vol2/Ivy/Projects_Dir/stFormer/stFormer/perturbation/stFormer_perturb.py:357\u001b[0m, in \u001b[0;36mInSilicoPerturber.perturb_data\u001b[0;34m(self, model_directory, input_data_file, output_directory, output_prefix)\u001b[0m\n\u001b[1;32m    354\u001b[0m filtered_input_data \u001b[38;5;241m=\u001b[39m \u001b[38;5;28mself\u001b[39m\u001b[38;5;241m.\u001b[39mapply_additional_filters(filtered_input_data)\n\u001b[1;32m    356\u001b[0m \u001b[38;5;28;01mif\u001b[39;00m \u001b[38;5;28mself\u001b[39m\u001b[38;5;241m.\u001b[39mperturb_group \u001b[38;5;129;01mis\u001b[39;00m \u001b[38;5;28;01mTrue\u001b[39;00m:\n\u001b[0;32m--> 357\u001b[0m     \u001b[38;5;28;43mself\u001b[39;49m\u001b[38;5;241;43m.\u001b[39;49m\u001b[43misp_perturb_set\u001b[49m(\n\u001b[1;32m    358\u001b[0m         model, filtered_input_data, layer_to_quant, output_path_prefix\n\u001b[1;32m    359\u001b[0m     )\n\u001b[1;32m    360\u001b[0m \u001b[38;5;28;01melse\u001b[39;00m:\n\u001b[1;32m    361\u001b[0m     \u001b[38;5;28mself\u001b[39m\u001b[38;5;241m.\u001b[39misp_perturb_all(\n\u001b[1;32m    362\u001b[0m         model, filtered_input_data, layer_to_quant, output_path_prefix\n\u001b[1;32m    363\u001b[0m     )\n",
      "\u001b[0;31mAttributeError\u001b[0m: 'InSilicoPerturber' object has no attribute 'isp_perturb_set'"
     ]
    }
   ],
   "source": [
    "isp = InSilicoPerturber(\n",
    "            perturb_type=\"overexpress\",\n",
    "            genes_to_perturb=['ENSG00000091831'], #ESR1,\n",
    "            #perturb_rank_shift = None,\n",
    "            model_type=\"Pretrained\",\n",
    "            filter_data={'subtype':'TNBC'}, #include filtering to TNBC to see overexpression of ESR1 on these cells\n",
    "            num_classes=0,\n",
    "            emb_mode=\"cell_and_gene\",\n",
    "            cell_emb_style='mean_pool',\n",
    "            max_ncells=1000,\n",
    "            emb_layer=0,\n",
    "            forward_batch_size=10,\n",
    "            nproc=12,\n",
    "            token_dictionary_file='output/token_dictionary.pickle',\n",
    "         )\n",
    "         \n",
    "isp.perturb_data(\n",
    "    model_directory='output/spot/models/250422_102707_stFormer_L6_E3/final',\n",
    "    input_data_file='output/spot/visium_spot.dataset',\n",
    "    output_directory='output/perturb/overexpress',\n",
    "    output_prefix='perturb_spot')"
   ]
  },
  {
   "cell_type": "code",
   "execution_count": 8,
   "id": "3f712f5a",
   "metadata": {},
   "outputs": [
    {
     "name": "stderr",
     "output_type": "stream",
     "text": [
      "100%|██████████| 2/2 [00:00<00:00, 16.47it/s]"
     ]
    },
    {
     "name": "stderr",
     "output_type": "stream",
     "text": [
      "\n"
     ]
    },
    {
     "data": {
      "application/vnd.jupyter.widget-view+json": {
       "model_id": "491d9c98e98f45fca9b6a8d3055eb0b3",
       "version_major": 2,
       "version_minor": 0
      },
      "text/plain": [
       "  0%|          | 0/1 [00:00<?, ?it/s]"
      ]
     },
     "metadata": {},
     "output_type": "display_data"
    }
   ],
   "source": [
    "ispstats = InSilicoPerturberStats(mode='aggregate_gene_shifts',\n",
    "                                  genes_perturbed=['ENSG00000091831'],\n",
    "                                  token_dictionary_file='output/token_dictionary.pickle',\n",
    "                                  gene_name_id_dictionary_file='output/ensembl_mapping_dict.pickle'\n",
    "                                  )\n",
    "ispstats.get_stats(\n",
    "    input_data_directory='output/perturb/overexpress',\n",
    "    null_dist_data_directory=None,\n",
    "    output_directory='output/perturb/overexpress/stats',\n",
    "    output_prefix='visium_spot'\n",
    ")"
   ]
  },
  {
   "cell_type": "code",
   "execution_count": 11,
   "id": "f5139c27",
   "metadata": {},
   "outputs": [
    {
     "data": {
      "text/html": [
       "<div>\n",
       "<style scoped>\n",
       "    .dataframe tbody tr th:only-of-type {\n",
       "        vertical-align: middle;\n",
       "    }\n",
       "\n",
       "    .dataframe tbody tr th {\n",
       "        vertical-align: top;\n",
       "    }\n",
       "\n",
       "    .dataframe thead th {\n",
       "        text-align: right;\n",
       "    }\n",
       "</style>\n",
       "<table border=\"1\" class=\"dataframe\">\n",
       "  <thead>\n",
       "    <tr style=\"text-align: right;\">\n",
       "      <th></th>\n",
       "      <th>Unnamed: 0</th>\n",
       "      <th>Perturbed</th>\n",
       "      <th>Gene_name</th>\n",
       "      <th>Ensembl_ID</th>\n",
       "      <th>Affected</th>\n",
       "      <th>Affected_gene_name</th>\n",
       "      <th>Affected_Ensembl_ID</th>\n",
       "      <th>Cosine_sim_mean</th>\n",
       "      <th>Cosine_sim_stdev</th>\n",
       "      <th>N_Detections</th>\n",
       "    </tr>\n",
       "  </thead>\n",
       "  <tbody>\n",
       "    <tr>\n",
       "      <th>0</th>\n",
       "      <td>16654</td>\n",
       "      <td>5253</td>\n",
       "      <td>ESR1</td>\n",
       "      <td>ENSG00000091831</td>\n",
       "      <td>cell_emb</td>\n",
       "      <td>NaN</td>\n",
       "      <td>NaN</td>\n",
       "      <td>0.360762</td>\n",
       "      <td>0.031043</td>\n",
       "      <td>1000</td>\n",
       "    </tr>\n",
       "    <tr>\n",
       "      <th>1438</th>\n",
       "      <td>7596</td>\n",
       "      <td>5253</td>\n",
       "      <td>ESR1</td>\n",
       "      <td>ENSG00000091831</td>\n",
       "      <td>12829</td>\n",
       "      <td>SOX12</td>\n",
       "      <td>ENSG00000177732</td>\n",
       "      <td>0.244047</td>\n",
       "      <td>0.068424</td>\n",
       "      <td>103</td>\n",
       "    </tr>\n",
       "    <tr>\n",
       "      <th>1448</th>\n",
       "      <td>11095</td>\n",
       "      <td>5253</td>\n",
       "      <td>ESR1</td>\n",
       "      <td>ENSG00000091831</td>\n",
       "      <td>12674</td>\n",
       "      <td>FAM210A</td>\n",
       "      <td>ENSG00000177150</td>\n",
       "      <td>0.244782</td>\n",
       "      <td>0.082634</td>\n",
       "      <td>110</td>\n",
       "    </tr>\n",
       "    <tr>\n",
       "      <th>1487</th>\n",
       "      <td>1471</td>\n",
       "      <td>5253</td>\n",
       "      <td>ESR1</td>\n",
       "      <td>ENSG00000091831</td>\n",
       "      <td>4611</td>\n",
       "      <td>LYRM4</td>\n",
       "      <td>ENSG00000214113</td>\n",
       "      <td>0.247697</td>\n",
       "      <td>0.086635</td>\n",
       "      <td>187</td>\n",
       "    </tr>\n",
       "    <tr>\n",
       "      <th>1493</th>\n",
       "      <td>4400</td>\n",
       "      <td>5253</td>\n",
       "      <td>ESR1</td>\n",
       "      <td>ENSG00000091831</td>\n",
       "      <td>10294</td>\n",
       "      <td>PCNX4</td>\n",
       "      <td>ENSG00000126773</td>\n",
       "      <td>0.248049</td>\n",
       "      <td>0.076348</td>\n",
       "      <td>106</td>\n",
       "    </tr>\n",
       "    <tr>\n",
       "      <th>...</th>\n",
       "      <td>...</td>\n",
       "      <td>...</td>\n",
       "      <td>...</td>\n",
       "      <td>...</td>\n",
       "      <td>...</td>\n",
       "      <td>...</td>\n",
       "      <td>...</td>\n",
       "      <td>...</td>\n",
       "      <td>...</td>\n",
       "      <td>...</td>\n",
       "    </tr>\n",
       "    <tr>\n",
       "      <th>16582</th>\n",
       "      <td>2048</td>\n",
       "      <td>5253</td>\n",
       "      <td>ESR1</td>\n",
       "      <td>ENSG00000091831</td>\n",
       "      <td>7077</td>\n",
       "      <td>RPS6</td>\n",
       "      <td>ENSG00000137154</td>\n",
       "      <td>0.511600</td>\n",
       "      <td>0.168906</td>\n",
       "      <td>764</td>\n",
       "    </tr>\n",
       "    <tr>\n",
       "      <th>16602</th>\n",
       "      <td>2049</td>\n",
       "      <td>5253</td>\n",
       "      <td>ESR1</td>\n",
       "      <td>ENSG00000091831</td>\n",
       "      <td>12965</td>\n",
       "      <td>HM13</td>\n",
       "      <td>ENSG00000101294</td>\n",
       "      <td>0.531182</td>\n",
       "      <td>0.134526</td>\n",
       "      <td>451</td>\n",
       "    </tr>\n",
       "    <tr>\n",
       "      <th>16631</th>\n",
       "      <td>192</td>\n",
       "      <td>5253</td>\n",
       "      <td>ESR1</td>\n",
       "      <td>ENSG00000091831</td>\n",
       "      <td>10562</td>\n",
       "      <td>IGHG4</td>\n",
       "      <td>ENSG00000211892</td>\n",
       "      <td>0.564804</td>\n",
       "      <td>0.176376</td>\n",
       "      <td>667</td>\n",
       "    </tr>\n",
       "    <tr>\n",
       "      <th>16638</th>\n",
       "      <td>2047</td>\n",
       "      <td>5253</td>\n",
       "      <td>ESR1</td>\n",
       "      <td>ENSG00000091831</td>\n",
       "      <td>12112</td>\n",
       "      <td>MIEN1</td>\n",
       "      <td>ENSG00000141741</td>\n",
       "      <td>0.587240</td>\n",
       "      <td>0.157427</td>\n",
       "      <td>415</td>\n",
       "    </tr>\n",
       "    <tr>\n",
       "      <th>16651</th>\n",
       "      <td>13526</td>\n",
       "      <td>5253</td>\n",
       "      <td>ESR1</td>\n",
       "      <td>ENSG00000091831</td>\n",
       "      <td>0</td>\n",
       "      <td>NaN</td>\n",
       "      <td>&lt;pad&gt;</td>\n",
       "      <td>0.985888</td>\n",
       "      <td>0.084908</td>\n",
       "      <td>8009</td>\n",
       "    </tr>\n",
       "  </tbody>\n",
       "</table>\n",
       "<p>7262 rows × 10 columns</p>\n",
       "</div>"
      ],
      "text/plain": [
       "       Unnamed: 0  Perturbed Gene_name       Ensembl_ID  Affected  \\\n",
       "0           16654       5253      ESR1  ENSG00000091831  cell_emb   \n",
       "1438         7596       5253      ESR1  ENSG00000091831     12829   \n",
       "1448        11095       5253      ESR1  ENSG00000091831     12674   \n",
       "1487         1471       5253      ESR1  ENSG00000091831      4611   \n",
       "1493         4400       5253      ESR1  ENSG00000091831     10294   \n",
       "...           ...        ...       ...              ...       ...   \n",
       "16582        2048       5253      ESR1  ENSG00000091831      7077   \n",
       "16602        2049       5253      ESR1  ENSG00000091831     12965   \n",
       "16631         192       5253      ESR1  ENSG00000091831     10562   \n",
       "16638        2047       5253      ESR1  ENSG00000091831     12112   \n",
       "16651       13526       5253      ESR1  ENSG00000091831         0   \n",
       "\n",
       "      Affected_gene_name Affected_Ensembl_ID  Cosine_sim_mean  \\\n",
       "0                    NaN                 NaN         0.360762   \n",
       "1438               SOX12     ENSG00000177732         0.244047   \n",
       "1448             FAM210A     ENSG00000177150         0.244782   \n",
       "1487               LYRM4     ENSG00000214113         0.247697   \n",
       "1493               PCNX4     ENSG00000126773         0.248049   \n",
       "...                  ...                 ...              ...   \n",
       "16582               RPS6     ENSG00000137154         0.511600   \n",
       "16602               HM13     ENSG00000101294         0.531182   \n",
       "16631              IGHG4     ENSG00000211892         0.564804   \n",
       "16638              MIEN1     ENSG00000141741         0.587240   \n",
       "16651                NaN               <pad>         0.985888   \n",
       "\n",
       "       Cosine_sim_stdev  N_Detections  \n",
       "0              0.031043          1000  \n",
       "1438           0.068424           103  \n",
       "1448           0.082634           110  \n",
       "1487           0.086635           187  \n",
       "1493           0.076348           106  \n",
       "...                 ...           ...  \n",
       "16582          0.168906           764  \n",
       "16602          0.134526           451  \n",
       "16631          0.176376           667  \n",
       "16638          0.157427           415  \n",
       "16651          0.084908          8009  \n",
       "\n",
       "[7262 rows x 10 columns]"
      ]
     },
     "execution_count": 11,
     "metadata": {},
     "output_type": "execute_result"
    }
   ],
   "source": [
    "import pandas as pd\n",
    "stats = pd.read_csv('output/perturb/overexpress/stats/visium_spot.csv')\n",
    "stats[stats['N_Detections'] > 100]"
   ]
  },
  {
   "cell_type": "markdown",
   "id": "1c3f8cb7",
   "metadata": {},
   "source": [
    "### 1.5 Option E: Load in Cell Classifier for Perturbation"
   ]
  },
  {
   "cell_type": "markdown",
   "id": "fe5da1ba",
   "metadata": {},
   "source": [
    "1. Data Filtering & Batching\n",
    "- `perturb_data()` loads and filters the pretrained CellClassifier\n",
    "- Each cell is selected individually and padded into batch form using padding_collate_fn_orig.\n",
    "\n",
    "2. Generating Perturbations\n",
    "- For each cell, `pu.make_perturbation_batch` creates a batch containing our perturbation (ESR1)\n",
    "- Perturbed versions are padded into batch form (pert_batch).\n",
    "- The perturbed embeddings (full_pert) are collected.\n",
    "\n",
    "3. Cosine‐Similarity Quantification\n",
    "- **Gene-level:**`pu.quant_cos_sims`quantifies how each gene’s embedding shifts under perturbation.\n",
    "- **Cell-level:** Mean-pooled cell embeddings are compared using `quant_cos_sims`to measure the overall state shift.\n",
    "\n",
    "4. Aggregation & Dictionary Update\n",
    "- For every perturbed gene, cosine similarities to all other genes are saved in gene_embs.\n",
    "- Once all cells are processed, the final cosine similarity and gene embedding dictionaries are saved."
   ]
  },
  {
   "cell_type": "code",
   "execution_count": 1,
   "id": "15239dff",
   "metadata": {},
   "outputs": [],
   "source": [
    "from stFormer.perturbation.stFormer_perturb import InSilicoPerturber\n",
    "from stFormer.perturbation.perturb_stats import InSilicoPerturberStats"
   ]
  },
  {
   "cell_type": "code",
   "execution_count": 2,
   "id": "5b492242",
   "metadata": {},
   "outputs": [],
   "source": [
    "from datasets.utils.logging import disable_progress_bar\n",
    "disable_progress_bar()"
   ]
  },
  {
   "cell_type": "code",
   "execution_count": 2,
   "id": "f123e321",
   "metadata": {},
   "outputs": [
    {
     "name": "stderr",
     "output_type": "stream",
     "text": [
      "Perturbing all cells:   1%|          | 4/500 [02:57<6:07:06, 44.41s/it]\n"
     ]
    },
    {
     "ename": "KeyboardInterrupt",
     "evalue": "",
     "output_type": "error",
     "traceback": [
      "\u001b[0;31m---------------------------------------------------------------------------\u001b[0m",
      "\u001b[0;31mKeyboardInterrupt\u001b[0m                         Traceback (most recent call last)",
      "Cell \u001b[0;32mIn[2], line 16\u001b[0m\n\u001b[1;32m      1\u001b[0m isp \u001b[38;5;241m=\u001b[39m InSilicoPerturber(\n\u001b[1;32m      2\u001b[0m             perturb_type\u001b[38;5;241m=\u001b[39m\u001b[38;5;124m\"\u001b[39m\u001b[38;5;124mdelete\u001b[39m\u001b[38;5;124m\"\u001b[39m,\n\u001b[1;32m      3\u001b[0m             genes_to_perturb\u001b[38;5;241m=\u001b[39m\u001b[38;5;124m'\u001b[39m\u001b[38;5;124mall\u001b[39m\u001b[38;5;124m'\u001b[39m,\n\u001b[0;32m   (...)\u001b[0m\n\u001b[1;32m     13\u001b[0m             token_dictionary_file\u001b[38;5;241m=\u001b[39m\u001b[38;5;124m'\u001b[39m\u001b[38;5;124moutput/token_dictionary.pickle\u001b[39m\u001b[38;5;124m'\u001b[39m,\n\u001b[1;32m     14\u001b[0m          )\n\u001b[0;32m---> 16\u001b[0m \u001b[43misp\u001b[49m\u001b[38;5;241;43m.\u001b[39;49m\u001b[43mperturb_data\u001b[49m\u001b[43m(\u001b[49m\n\u001b[1;32m     17\u001b[0m \u001b[43m    \u001b[49m\u001b[43mmodel_directory\u001b[49m\u001b[38;5;241;43m=\u001b[39;49m\u001b[38;5;124;43m'\u001b[39;49m\u001b[38;5;124;43moutput/models/classification/final_model\u001b[39;49m\u001b[38;5;124;43m'\u001b[39;49m\u001b[43m,\u001b[49m\n\u001b[1;32m     18\u001b[0m \u001b[43m    \u001b[49m\u001b[43minput_data_file\u001b[49m\u001b[38;5;241;43m=\u001b[39;49m\u001b[38;5;124;43m'\u001b[39;49m\u001b[38;5;124;43moutput/spot/visium_spot.dataset\u001b[39;49m\u001b[38;5;124;43m'\u001b[39;49m\u001b[43m,\u001b[49m\n\u001b[1;32m     19\u001b[0m \u001b[43m    \u001b[49m\u001b[43moutput_directory\u001b[49m\u001b[38;5;241;43m=\u001b[39;49m\u001b[38;5;124;43m'\u001b[39;49m\u001b[38;5;124;43moutput/perturb\u001b[39;49m\u001b[38;5;124;43m'\u001b[39;49m\u001b[43m,\u001b[49m\n\u001b[1;32m     20\u001b[0m \u001b[43m    \u001b[49m\u001b[43moutput_prefix\u001b[49m\u001b[38;5;241;43m=\u001b[39;49m\u001b[38;5;124;43m'\u001b[39;49m\u001b[38;5;124;43mperturb_spot\u001b[39;49m\u001b[38;5;124;43m'\u001b[39;49m\u001b[43m)\u001b[49m\n",
      "File \u001b[0;32m/media/qian/vol2/Ivy/Projects_Dir/stFormer/stFormer/perturbation/stFormer_perturb.py:361\u001b[0m, in \u001b[0;36mInSilicoPerturber.perturb_data\u001b[0;34m(self, model_directory, input_data_file, output_directory, output_prefix)\u001b[0m\n\u001b[1;32m    357\u001b[0m     \u001b[38;5;28mself\u001b[39m\u001b[38;5;241m.\u001b[39misp_perturb_set(\n\u001b[1;32m    358\u001b[0m         model, filtered_input_data, layer_to_quant, output_path_prefix\n\u001b[1;32m    359\u001b[0m     )\n\u001b[1;32m    360\u001b[0m \u001b[38;5;28;01melse\u001b[39;00m:\n\u001b[0;32m--> 361\u001b[0m     \u001b[38;5;28;43mself\u001b[39;49m\u001b[38;5;241;43m.\u001b[39;49m\u001b[43misp_perturb_all\u001b[49m\u001b[43m(\u001b[49m\n\u001b[1;32m    362\u001b[0m \u001b[43m        \u001b[49m\u001b[43mmodel\u001b[49m\u001b[43m,\u001b[49m\u001b[43m \u001b[49m\u001b[43mfiltered_input_data\u001b[49m\u001b[43m,\u001b[49m\u001b[43m \u001b[49m\u001b[43mlayer_to_quant\u001b[49m\u001b[43m,\u001b[49m\u001b[43m \u001b[49m\u001b[43moutput_path_prefix\u001b[49m\n\u001b[1;32m    363\u001b[0m \u001b[43m    \u001b[49m\u001b[43m)\u001b[49m\n",
      "File \u001b[0;32m/media/qian/vol2/Ivy/Projects_Dir/stFormer/stFormer/perturbation/stFormer_perturb.py:628\u001b[0m, in \u001b[0;36misp_perturb_all\u001b[0;34m(self, model, dataset, layer_to_quant, prefix)\u001b[0m\n\u001b[1;32m    620\u001b[0m pert_ds, idxs \u001b[38;5;241m=\u001b[39m pu\u001b[38;5;241m.\u001b[39mmake_perturbation_batch(\n\u001b[1;32m    621\u001b[0m     cell, \u001b[38;5;28mself\u001b[39m\u001b[38;5;241m.\u001b[39mperturb_type, \u001b[38;5;28mself\u001b[39m\u001b[38;5;241m.\u001b[39mtokens_to_perturb,\n\u001b[1;32m    622\u001b[0m     \u001b[38;5;28mself\u001b[39m\u001b[38;5;241m.\u001b[39manchor_token, \u001b[38;5;28mself\u001b[39m\u001b[38;5;241m.\u001b[39mcombos, \u001b[38;5;28mself\u001b[39m\u001b[38;5;241m.\u001b[39mnproc\n\u001b[1;32m    623\u001b[0m )\n\u001b[1;32m    625\u001b[0m pert_batch \u001b[38;5;241m=\u001b[39m padding_collate_fn_orig(pert_ds)\n\u001b[1;32m    627\u001b[0m full_pert \u001b[38;5;241m=\u001b[39m get_embs(\n\u001b[0;32m--> 628\u001b[0m     model, pert_batch, \u001b[38;5;124m\"\u001b[39m\u001b[38;5;124mgene\u001b[39m\u001b[38;5;124m\"\u001b[39m, layer_to_quant, \u001b[38;5;28mself\u001b[39m\u001b[38;5;241m.\u001b[39mpad_token_id,\n\u001b[1;32m    629\u001b[0m     \u001b[38;5;28mself\u001b[39m\u001b[38;5;241m.\u001b[39mforward_batch_size, token_gene_dict\u001b[38;5;241m=\u001b[39m\u001b[38;5;28mself\u001b[39m\u001b[38;5;241m.\u001b[39mtoken_gene_dict,\n\u001b[1;32m    630\u001b[0m     summary_stat\u001b[38;5;241m=\u001b[39m\u001b[38;5;28;01mNone\u001b[39;00m, silent\u001b[38;5;241m=\u001b[39m\u001b[38;5;28;01mTrue\u001b[39;00m\n\u001b[1;32m    631\u001b[0m )\n\u001b[1;32m    633\u001b[0m \u001b[38;5;66;03m#  Align embedding lengths \u001b[39;00m\n\u001b[1;32m    634\u001b[0m min_len \u001b[38;5;241m=\u001b[39m \u001b[38;5;28mmin\u001b[39m(full_orig\u001b[38;5;241m.\u001b[39mshape[\u001b[38;5;241m1\u001b[39m], full_pert\u001b[38;5;241m.\u001b[39mshape[\u001b[38;5;241m1\u001b[39m])\n",
      "File \u001b[0;32m/media/qian/vol2/Ivy/Projects_Dir/stFormer/stFormer/perturbation/embs.py:122\u001b[0m, in \u001b[0;36mget_embs\u001b[0;34m(model, filtered_input_data, emb_mode, layer_to_quant, pad_token_id, forward_batch_size, token_gene_dict, special_token, summary_stat, silent)\u001b[0m\n\u001b[1;32m    120\u001b[0m \u001b[38;5;28;01melif\u001b[39;00m emb_mode \u001b[38;5;241m==\u001b[39m \u001b[38;5;124m\"\u001b[39m\u001b[38;5;124mgene\u001b[39m\u001b[38;5;124m\"\u001b[39m:\n\u001b[1;32m    121\u001b[0m     \u001b[38;5;28;01mif\u001b[39;00m summary_stat \u001b[38;5;129;01mis\u001b[39;00m \u001b[38;5;28;01mNone\u001b[39;00m:\n\u001b[0;32m--> 122\u001b[0m         embs_list\u001b[38;5;241m.\u001b[39mappend(\u001b[43membs_i\u001b[49m\u001b[38;5;241;43m.\u001b[39;49m\u001b[43mcpu\u001b[49m\u001b[43m(\u001b[49m\u001b[43m)\u001b[49m)\n\u001b[1;32m    123\u001b[0m     \u001b[38;5;28;01melse\u001b[39;00m:\n\u001b[1;32m    124\u001b[0m         \u001b[38;5;28;01mfor\u001b[39;00m h \u001b[38;5;129;01min\u001b[39;00m \u001b[38;5;28mrange\u001b[39m(minibatch[\u001b[38;5;124m\"\u001b[39m\u001b[38;5;124minput_ids\u001b[39m\u001b[38;5;124m\"\u001b[39m]\u001b[38;5;241m.\u001b[39mshape[\u001b[38;5;241m0\u001b[39m]):\n",
      "\u001b[0;31mKeyboardInterrupt\u001b[0m: "
     ]
    }
   ],
   "source": [
    "isp = InSilicoPerturber(\n",
    "            perturb_type=\"delete\",\n",
    "            genes_to_perturb='all',\n",
    "            #perturb_rank_shift = None,\n",
    "            model_type=\"CellClassifier\",\n",
    "            num_classes=2, #number of classes originally trained on\n",
    "            emb_mode=\"cell\",\n",
    "            cell_emb_style='mean_pool',\n",
    "            max_ncells=500,\n",
    "            emb_layer=0,\n",
    "            forward_batch_size=100,\n",
    "            nproc=12,\n",
    "            token_dictionary_file='output/token_dictionary.pickle',\n",
    "         )\n",
    "         \n",
    "isp.perturb_data(\n",
    "    model_directory='output/models/classification/final_model',\n",
    "    input_data_file='output/spot/visium_spot.dataset',\n",
    "    output_directory='output/perturb',\n",
    "    output_prefix='perturb_spot')"
   ]
  },
  {
   "cell_type": "code",
   "execution_count": null,
   "id": "c5197739",
   "metadata": {},
   "outputs": [],
   "source": []
  }
 ],
 "metadata": {
  "kernelspec": {
   "display_name": "stFormer",
   "language": "python",
   "name": "stformer"
  },
  "language_info": {
   "codemirror_mode": {
    "name": "ipython",
    "version": 3
   },
   "file_extension": ".py",
   "mimetype": "text/x-python",
   "name": "python",
   "nbconvert_exporter": "python",
   "pygments_lexer": "ipython3",
   "version": "3.10.12"
  }
 },
 "nbformat": 4,
 "nbformat_minor": 5
}
