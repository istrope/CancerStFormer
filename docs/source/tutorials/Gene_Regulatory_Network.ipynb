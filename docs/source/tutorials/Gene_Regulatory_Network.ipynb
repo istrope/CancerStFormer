{
 "cells": [
  {
   "cell_type": "code",
   "execution_count": null,
   "id": "ac7a44e5",
   "metadata": {},
   "outputs": [],
   "source": [
    "../../Tutorials/Gene_Regulatory_Network.ipynb"
   ]
  }
 ],
 "metadata": {
  "language_info": {
   "name": "python"
  }
 },
 "nbformat": 4,
 "nbformat_minor": 5
}
