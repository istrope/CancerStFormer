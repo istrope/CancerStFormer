{
 "cells": [
  {
   "cell_type": "code",
   "execution_count": null,
   "id": "6889440d",
   "metadata": {},
   "outputs": [],
   "source": [
    "../../Tutorials/Classification.ipynb"
   ]
  }
 ],
 "metadata": {
  "language_info": {
   "name": "python"
  }
 },
 "nbformat": 4,
 "nbformat_minor": 5
}
